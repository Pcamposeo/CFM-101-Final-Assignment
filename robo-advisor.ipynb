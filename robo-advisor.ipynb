{
 "cells": [
  {
   "attachments": {},
   "cell_type": "markdown",
   "metadata": {},
   "source": [
    "<h1 style=\"color:#239B56;\">Robo-Advisor</h1>"
   ]
  },
  {
   "attachments": {},
   "cell_type": "markdown",
   "metadata": {},
   "source": [
    "## Overview:\n",
    "\n",
    "We want to create an unusually \"safe\" portfolio. Rather than maximize returns, we want to keep returns as close as possible to zero. In other words, we want to generate the least volatile portfolio given a list of stocks, with the goal of having the ending value be as close as possible to the starting value, given some investment horizon.\n",
    "\n",
    "We will be using Python, with tools such as Pandas, NumPy, Matplotlib, and the AlphaVantage API to gather data, perform quantitative analyses, generate the portfolio, and analyze the results.\n",
    "\n",
    "Table of contents:\n",
    "\n",
    "_____________________________________________________________________________\n",
    "\n",
    "0.0 Imports\n",
    "\n",
    "0.1 Global Variables\n",
    "\n",
    "1. DATA CLEANING\n",
    "\n",
    "    1.1 Read in .csv\n",
    "\n",
    "    1.2 Collect and Filter Data\n",
    "\n",
    "2. CHOOSING THE STOCKS\n",
    "\n",
    "    2.1 Returns DataFrame\n",
    "\n",
    "    2.2 The Points System\n",
    "\n",
    "3. CREATING THE OPTIMAL PORTFOLIO\n",
    "\n",
    "    3.1 Stock Betas\n",
    "\n",
    "    3.2 Weight Generation\n",
    "\n",
    "    3.3 Monte Carlo Simulation\n",
    "\n",
    "    3.4 Final Portfolio\n",
    "\n",
    "4. ANALYSIS AND SANITY CHECKS\n",
    "\n",
    "    4.1 Value and Weights Check\n",
    "\n",
    "    4.2 Expected Returns Visualization\n",
    "\n",
    "    4.3 Returns Check With Low Volatility ETF Comparison\n",
    "\n",
    "    4.4 Graphed Returns Check With Additional Data and Low Volatility ETF Comparison\n",
    "\n",
    "5. PORTFOLIO TO CSV, CONSIDERATIONS, AND CONCLUSION\n",
    "\n",
    "    5.1 Output Final Information to .csv File\n",
    "\n",
    "    5.2 Considerations\n",
    "\n",
    "    5.3 Conclusion\n",
    "\n",
    "6. REFERENCES\n",
    "\n",
    "_____________________________________________________________________________\n",
    "\n",
    "Here's a quick overview of the architecture of this script:\n",
    "\n",
    "Data cleaning - Removing tickers that do not fit certain criteria (chosen by the user).\n",
    "\n",
    "Choosing the stocks - Picking the tickers which we will utilize in the final portfolio (based on a volatility and correlation metric).\n",
    "\n",
    "Creating the portfolio - Running a Monte Carlo simulation to generate the final portfolio, which has an expected return close to 0%. We will calculate expected return based on a <b>Multi-Security Capital Asset Pricing Model (MSCAPM)</b> (below).\n",
    "\n",
    "![MSCAPM](pub/pricing_model.jpg)\n",
    "\n",
    "Analysis and sanity checks - Ensuring that the capital has been allocated correctly, as well as showing that the portfolio is indeed expected to return close to 0% over a given period of time, among other characteristics. In this section, we also compare our generated portfolio to a popular low-volatility ETF.\n",
    "\n",
    "Objective assumptions:\n",
    "\n",
    "- Fractional shares can be purchased\n",
    "- There will be no transaction costs when buying stocks.\n",
    "- Once the portfolio is set, it cannot be changed.\n",
    "- Dividends will be ignored\n",
    "\n",
    "Note: The term 'stock' and 'ticker' are often used interchangeably in this project. They both generally refer to either the string representing a stock or the underlying stock itself."
   ]
  },
  {
   "attachments": {},
   "cell_type": "markdown",
   "metadata": {},
   "source": [
    "## Why MSCAPM?\n",
    "\n",
    "The Multi-Security Capital Asset Pricing Model (MSCAPM for short) gives the expected return for a portfolio of assets relational to its risk with the market.\n",
    "\n",
    "One of the primary assumptions we make when deriving the portfolio is that <b>the overall market will be a good indicator for its price movements.</b> This is because we deliberately diversify the portfolio. We use this information to then attempt to offset market movements, allowing the portfolio to hover around 0% returns.\n",
    "\n",
    "With this assumption in mind, we decided that the MSCAPM was the best pricing model to use for two main reasons:\n",
    "\n",
    "1. CAPM is a tested and proven model.\n",
    "\n",
    "2. Including beta as a factor allows us to imply both correlation and volatility in one variable, and will bias the allocation of capital towards stocks that have lower volatility, and/or stocks that are likely to 'offset' the volatility of other stocks in the portfolio.\n",
    "\n",
    "Some issues with other viable methods:\n",
    "\n",
    "1. Picking the portfolio with the lowest volatility.\n",
    "- Doesn't consider correlation strongly. With this model, it's possible for the correlation between securities to be high, which could cause the portfolio's value to trend in one direction over time, despite low volatility. Problematic in the long-term.\n",
    "\n",
    "2. Picking the portfolio with the lowest expected return (by combining the weighted expected return of each security).\n",
    "- Doesn't consider volatility heavily. The magnitude of volatility may be strong. Problematic in the short-term."
   ]
  },
  {
   "attachments": {},
   "cell_type": "markdown",
   "metadata": {},
   "source": [
    "#### 0.0 Imports"
   ]
  },
  {
   "cell_type": "code",
   "execution_count": 225,
   "metadata": {},
   "outputs": [],
   "source": [
    "from IPython.display import display, Math, Latex\n",
    "\n",
    "import pandas as pd\n",
    "import numpy as np\n",
    "import matplotlib.pyplot as plt\n",
    "\n",
    "from datetime import datetime\n",
    "from dateutil.relativedelta import relativedelta\n",
    "\n",
    "import threading\n",
    "from queue import Queue\n",
    "from random import uniform\n",
    "import random\n",
    "from typing import List\n",
    "\n",
    "import sys\n",
    "\n",
    "from modules.alphawrap import Stock\n",
    "import modules.alphawrap as aw"
   ]
  },
  {
   "attachments": {},
   "cell_type": "markdown",
   "metadata": {},
   "source": [
    "### 0.1 Global Variables"
   ]
  },
  {
   "cell_type": "code",
   "execution_count": 226,
   "metadata": {},
   "outputs": [],
   "source": [
    "# MODIFIABLE #\n",
    "\n",
    "# AlphaVantage key\n",
    "KEY                             = ''\n",
    "aw.set_global_key(KEY)\n",
    "\n",
    "# Variables for filtering\n",
    "minimum_monthly_trading_days    = 20 # For a valid month in volume calculation\n",
    "minimum_volume                  = 200_000 # Monthly, for valid months\n",
    "required_denomination           = 'USD'\n",
    "\n",
    "# Maximum number of stocks allowed in the portfolio\n",
    "max_tickers                     = 25\n",
    "\n",
    "# Dates for data references made when looking at statistics like volatility, correlation, and beta\n",
    "#  \"Portfolio selection analysis period\"\n",
    "start                           = '2023-01-01'\n",
    "end                             = '2023-05-02'\n",
    "\n",
    "# Dates for volume calculation\n",
    "vol_date_s                      = '2022-08-01'\n",
    "vol_date_e                      = '2023-02-01' # Must be the month after the last month to be checked\n",
    "\n",
    "capital                         = 500_000 # How much money we have to spend\n",
    "\n",
    "# Lowest and highest percentage of any given security in the portfolio\n",
    "lowest_weight                   = .02\n",
    "highest_weight                  = .12\n",
    "\n",
    "numdays                         = 5 # For expected return (NUMBER OF TRADING DAYS ONLY)"
   ]
  },
  {
   "cell_type": "code",
   "execution_count": 227,
   "metadata": {},
   "outputs": [],
   "source": [
    "# .csv file of tickers\n",
    "csv_file = \"csv/tickers.csv\"\n",
    "\n",
    "# Retrieve risk-free rate from alphawrap library\n",
    "try:\n",
    "    rf = aw.rf()\n",
    "except:\n",
    "    rf = 0.0383\n",
    "\n",
    "price_date = end # Date of purchase for stocks"
   ]
  },
  {
   "attachments": {},
   "cell_type": "markdown",
   "metadata": {},
   "source": [
    "## 1. DATA CLEANING: \n",
    "\n",
    "THE GOAL:\n",
    "\n",
    "• Ignore any tickers that do not reference a valid stock denominated in USD, i.e., we want to only use US-listed stocks.\n",
    "\n",
    "• Only use tickers that reference stocks with an average monthly volume of at least two-hundred thousand shares, as calculated based on a specified time interval. A month is defined as a calendar month. We will drop any month that does not have at least twenty trading days.\n",
    "\n",
    "THE PROCESS:\n",
    "\n",
    "We have two main functions (currency_check and volume_check), running on two separate threads, c and v. These functions are defined recursively; If too many tickers are passed into the function (i.e a list of tickers that is longer than 'max_length_lst' in each function), the function calls on several threads to run the function with smaller, sub-lists. When a small enough quantity of tickers is passed to the function, it will perform the criteria check for the tickers. This allows us to make faster API calls. Valid tickers get passed to the function's respective queue. Finally, the queue is cleared, and tickers that fit both criteria are saved as our list of tickers.\n",
    "\n",
    "Our code checks the tickers for the criteria mentioned,and generates two lists of valid tickers (one for each criterion). As we want stocks that fit both criteria, our final list of (valid) tickers is the intersection of the two lists.\n",
    "\n",
    "Note 1: Initially, we had volume_check and currency_check running asynchronously, and passed very small lists of tickers. Due to the limitations of AlphaVantage (an API that was not initially used for this project), we had to throttle the speed of data cleaning by running the functions in succession and increasing the max number of tickers by up to five-hundred percent.\n",
    "\n",
    "Note 2: Duplicates will be filtered out."
   ]
  },
  {
   "attachments": {},
   "cell_type": "markdown",
   "metadata": {},
   "source": [
    "#### 1.1 Read in .csv"
   ]
  },
  {
   "cell_type": "code",
   "execution_count": 228,
   "metadata": {},
   "outputs": [],
   "source": [
    "# Make values into a list\n",
    "tickers_csv = pd.read_csv(csv_file)\n",
    "ticker_list = tickers_csv.iloc[:, 0].values.tolist()\n",
    "ticker_list.insert(0, tickers_csv.columns[0]) # Add ticker at [0,0] (column name)\n",
    "ticker_list = [*set(ticker_list)] # Remove duplicates"
   ]
  },
  {
   "attachments": {},
   "cell_type": "markdown",
   "metadata": {},
   "source": [
    "#### 1.2 Collect and Filter Data"
   ]
  },
  {
   "attachments": {},
   "cell_type": "markdown",
   "metadata": {},
   "source": [
    "We first define our functions (average_volume (for volume_check), currency_check, volume_check)."
   ]
  },
  {
   "cell_type": "code",
   "execution_count": 229,
   "metadata": {},
   "outputs": [],
   "source": [
    "# Creates a series of months from vol_date_s to vol_date_e (for average_volume)\n",
    "months = list(pd.date_range(vol_date_s, vol_date_e, freq = 'MS').strftime(\"%Y-%m\").tolist())\n",
    "\n",
    "num_months_vol = len(months)"
   ]
  },
  {
   "cell_type": "code",
   "execution_count": 230,
   "metadata": {},
   "outputs": [],
   "source": [
    "# Consumes a ticker, outputs average volume over valid months\n",
    "def average_volume(ticker):\n",
    "    monthly_volumes = []\n",
    "\n",
    "    tick_obj = Stock(ticker = ticker)\n",
    "\n",
    "    # Custom DataFrame for valid months check\n",
    "    df_days = tick_obj.history(start = vol_date_s, end  = vol_date_e, interval = '1d').dropna()\n",
    "\n",
    "    # Drop months with less than minimum_monthly_trading_days days\n",
    "    for month in range(num_months_vol):\n",
    "        # Filter DataFrame for days only in the specified month\n",
    "        month_data = df_days.filter(like = months[month], axis = 0)\n",
    "\n",
    "        if len(month_data) >= minimum_monthly_trading_days:\n",
    "            # Add the sum of volume for that month\n",
    "            monthly_volumes.append(sum(month_data['Volume'].values.tolist()))\n",
    "        else:\n",
    "            pass\n",
    "\n",
    "    # Calculate average volume\n",
    "    vol_av = np.mean(monthly_volumes)\n",
    "\n",
    "    return(vol_av)"
   ]
  },
  {
   "cell_type": "code",
   "execution_count": 231,
   "metadata": {},
   "outputs": [],
   "source": [
    "valid_tickers = []\n",
    "currency_valid = []\n",
    "volume_valid = []\n",
    "\n",
    "# Queue variables to store tickers while running async\n",
    "queueC = Queue()\n",
    "queueV = Queue()"
   ]
  },
  {
   "cell_type": "code",
   "execution_count": 232,
   "metadata": {},
   "outputs": [],
   "source": [
    "# Consumes a list of tickers, checks if the tickers are denominated in 'required_denomination'\n",
    "def currency_check(tickers):\n",
    "    max_length_lst = 35 # Maximum number of tickers that will be accepted by the function, else recursive call\n",
    "\n",
    "    # When there are an appropriate number of tickers in ticker_list, the function performs the currency check\n",
    "    if len(tickers) <= max_length_lst:\n",
    "\n",
    "        # Retrieve currency from each ticker\n",
    "        #  If it is 'required_denomination', it is a valid ticker. Else, we don't care so we set it as nan\n",
    "        for ticker in tickers:\n",
    "            currency = ''\n",
    "            tick_obj = Stock(ticker = ticker)\n",
    "\n",
    "            # Grab currency\n",
    "            try:\n",
    "                currency = tick_obj.info()['Currency']\n",
    "            except:\n",
    "                if currency:\n",
    "                    print(f'{ticker}: Invalid Currency: {currency}')\n",
    "                    continue # Suppress errors\n",
    "                else:\n",
    "                    print(f'{ticker}: Currency not found, ticker or key may be invalid')\n",
    "                    continue # Suppress errors\n",
    "                       \n",
    "            # Check criteria, add to list of valid tickers for currency\n",
    "            if currency == required_denomination:\n",
    "                # Pass our valid tickers to the QueueC (Queue Currency), so that they may be called on later\n",
    "                queueC.put(ticker)\n",
    "            else:\n",
    "                print(f'{ticker}: Invalid currency - {currency}')\n",
    "\n",
    "    # If there are too many tickers in ticker_lst, we run a recursive application of currency_check with \n",
    "    #  num_threads threads, with the arguments being one of num_threads equal parts of 'tickers'.\n",
    "    else:\n",
    "        num_threads = 2\n",
    "\n",
    "        ticker_split = np.array_split(tickers, num_threads)\n",
    "\n",
    "        # Start num_threads threads, add to list.\n",
    "        threads = []\n",
    "        for n in range(num_threads):\n",
    "            c_sub = threading.Thread(target = currency_check, args = (ticker_split[n], ))\n",
    "            c_sub.start()\n",
    "            threads.append(c_sub)\n",
    "\n",
    "        # Wait for threads to finish.\n",
    "        for t in threads:\n",
    "            t.join()"
   ]
  },
  {
   "cell_type": "code",
   "execution_count": 233,
   "metadata": {},
   "outputs": [],
   "source": [
    "# Consumes a list of tickers, checks if the tickers have an average monthly volume of 'minimum_volume' \n",
    "#  or more for months with 'minimum_monthly_trading_days' or more trading days\n",
    "def volume_check(tickers):\n",
    "    max_length_lst = 35\n",
    "    \n",
    "    # When there are an appropriate number of tickers in ticker_list, the function performs the volume check\n",
    "    if len(tickers) <= max_length_lst:\n",
    "\n",
    "        # Retrieve monthly average volume from each ticker\n",
    "        #  If it is greater than or equal to minimum_volume, it is a valid ticker. Else, we ignore it\n",
    "        for ticker in tickers:\n",
    "            \n",
    "            try:\n",
    "                av_vol = average_volume(ticker = ticker)\n",
    "                if av_vol >= minimum_volume:\n",
    "                    # Pass our valid tickers to the QueueV (Queue Volume), so that they may be called on later\n",
    "                    queueV.put(ticker)\n",
    "                else:\n",
    "                    print(f'{ticker}: Invalid volume - {av_vol}')\n",
    "            except:\n",
    "                pass # Suppress errors\n",
    "\n",
    "    # If there are too many tickers in ticker_lst, we run a recursive application of volume_check with num_threads threads,\n",
    "    #  with the arguments being one of num_threads equal parts of ticker_list\n",
    "    else:\n",
    "        num_threads = 2\n",
    "\n",
    "        ticker_split = np.array_split(tickers, num_threads)\n",
    "\n",
    "        # Start num_threads threads, add to list.\n",
    "        threads = []\n",
    "\n",
    "        for n in range(num_threads):\n",
    "            v_sub = threading.Thread(target = volume_check, args = (ticker_split[n], ))\n",
    "            v_sub.start()\n",
    "            threads.append(v_sub)\n",
    "\n",
    "        # Wait for all threads to finish\n",
    "        for t in threads:\n",
    "            t.join()"
   ]
  },
  {
   "attachments": {},
   "cell_type": "markdown",
   "metadata": {},
   "source": [
    "We now run currency_check and volume_check as described in the beginning of this section. All valid tickers are housed in valid_tickers."
   ]
  },
  {
   "cell_type": "code",
   "execution_count": 234,
   "metadata": {},
   "outputs": [
    {
     "name": "stdout",
     "output_type": "stream",
     "text": [
      "PSCM: Currency not found, ticker or key may be invalid\n",
      "NAC: Currency not found, ticker or key may be invalid\n"
     ]
    },
    {
     "name": "stdout",
     "output_type": "stream",
     "text": [
      "QRMI: Currency not found, ticker or key may be invalid\n",
      "TD.TO: Currency not found, ticker or key may be invalid\n",
      "MON: Currency not found, ticker or key may be invalid\n",
      "PSCM: Invalid volume - 36036.333333333336\n",
      "CIZN: Invalid volume - 114829.83333333333\n",
      "QRMI: Invalid volume - 109015.0\n",
      "CVR: Invalid volume - 49843.666666666664\n",
      "SEB: Invalid volume - 13488.333333333334\n",
      "BRK-A: Invalid volume - 64494.5\n",
      "Stock.history: MON: Something went wrong. Dates may be incorrect or out of range\n",
      "\n",
      "Valid Tickers: ['AAPL', 'ABT', 'ACN', 'ADBE', 'AEE', 'AEP', 'AMZN', 'BA', 'BAC', 'BK', 'BRK-B', 'C', 'CF', 'CMCSA', 'CMS', 'CPB', 'CSCO', 'CVS', 'D', 'ED', 'F', 'GE', 'GILD', 'GM', 'GO', 'GOOG', 'GRMN', 'IBM', 'INFY', 'JPM', 'KO', 'LMT', 'MNSO', 'MS', 'MSFT', 'NOC', 'PG', 'PM', 'REGN', 'ROP', 'SO', 'T', 'TSN', 'TXN', 'UNH', 'UPS', 'VMW', 'VZ']\n"
     ]
    }
   ],
   "source": [
    "# Creating threads for currency_check and volume_check function\n",
    "c = threading.Thread(target = currency_check, args = (ticker_list, ))\n",
    "v = threading.Thread(target = volume_check, args = (ticker_list, ))\n",
    "\n",
    "# Start thread c execution\n",
    "c.start()\n",
    "\n",
    "# Wait for c to finish, grab all elements from queue\n",
    "c.join()\n",
    "while not queueC.empty():\n",
    "    currency_valid.append(queueC.get())\n",
    "\n",
    "# Start thread v execution\n",
    "v.start()\n",
    "\n",
    "# Wait for v to finish, grab all elements from queue\n",
    "v.join()\n",
    "while not queueV.empty():\n",
    "    volume_valid.append(queueV.get())\n",
    "\n",
    "# Valid tickers are the intersection of the two lists (Must have particular denomination and average monthly volume)\n",
    "valid_tickers = sorted([value for value in currency_valid if value in volume_valid])\n",
    "\n",
    "print(f\"\\nValid Tickers: {valid_tickers}\")"
   ]
  },
  {
   "attachments": {},
   "cell_type": "markdown",
   "metadata": {},
   "source": [
    "## 2. CHOOSING THE STOCKS:\n",
    "\n",
    "In this section, we choose the stocks to be used in the final portfolio.\n",
    "\n",
    "THE GOAL:\n",
    "\n",
    "Since our overall goal is to have a portfolio that finishes as close to its starting value as possible, we naturally want a diversified and stable selection of stocks. With this in mind, we decided to use a system which considers correlation and volatility (\"the points system\"). \n",
    "\n",
    "Essentially, we want:\n",
    "\n",
    "• (If there are less than max_tickers tickers to choose from) Every (valid) ticker available <b>OR</b>\n",
    "  (if there are more than max_tickers tickers to choose from) 'max_tickers' tickers, comprised of the stocks which earn the most \"points\" in our points system.\n",
    "\n",
    "• Note: Volatility, as we define it in this section, is represented by the standard deviation of daily returns:\n",
    "\n",
    "\\begin{align*}\n",
    "\\sigma_X=\\sqrt{\\frac{\\sum(x_i-\\overline{X})^2}{N}}\n",
    "\\end{align*}\n",
    "\n",
    "- Where $x_i$ are individual returns of some security $X$, $N$ is the total number of observations\n",
    "\n",
    "• Note: Correlation, as we define it in this section, is as follows:\n",
    "\n",
    " \\begin{align*}\n",
    "COR(X,Y)=\\frac{COV(X,Y)}{\\sigma_X \\times \\sigma_Y}\n",
    "\\end{align*}\n",
    "\n",
    "Where COV(X,Y) is: \n",
    "\n",
    "\\begin{align*}\n",
    "COV(X,Y)=\\frac{\\sum(x_i-\\overline{X})\\times(y_i-\\overline{Y})}{N}\n",
    "\\end{align*}\n",
    "\n",
    "THE PROCESS:\n",
    "\n",
    "We will obtain closing data for each ticker, and calculate the daily returns. Then, we will use our points system to select the tickers which will be conducive to our goal."
   ]
  },
  {
   "attachments": {},
   "cell_type": "markdown",
   "metadata": {},
   "source": [
    "#### 2.1 Returns DataFrame"
   ]
  },
  {
   "cell_type": "markdown",
   "metadata": {},
   "source": [
    "First we create the closing prices DataFrame."
   ]
  },
  {
   "cell_type": "code",
   "execution_count": 235,
   "metadata": {},
   "outputs": [],
   "source": [
    "interval = '1d'\n",
    "# Dictionary of closing prices\n",
    "closing_dict = {}\n",
    "# Dictionary of returns\n",
    "returns_dict = {}"
   ]
  },
  {
   "cell_type": "code",
   "execution_count": 236,
   "metadata": {},
   "outputs": [
    {
     "name": "stdout",
     "output_type": "stream",
     "text": [
      "Closing Prices Preview:\n"
     ]
    },
    {
     "data": {
      "text/html": [
       "<div>\n",
       "<style scoped>\n",
       "    .dataframe tbody tr th:only-of-type {\n",
       "        vertical-align: middle;\n",
       "    }\n",
       "\n",
       "    .dataframe tbody tr th {\n",
       "        vertical-align: top;\n",
       "    }\n",
       "\n",
       "    .dataframe thead th {\n",
       "        text-align: right;\n",
       "    }\n",
       "</style>\n",
       "<table border=\"1\" class=\"dataframe\">\n",
       "  <thead>\n",
       "    <tr style=\"text-align: right;\">\n",
       "      <th></th>\n",
       "      <th>AAPL</th>\n",
       "      <th>ABT</th>\n",
       "      <th>ACN</th>\n",
       "      <th>ADBE</th>\n",
       "      <th>AEE</th>\n",
       "      <th>AEP</th>\n",
       "      <th>AMZN</th>\n",
       "      <th>BA</th>\n",
       "      <th>BAC</th>\n",
       "      <th>BK</th>\n",
       "      <th>...</th>\n",
       "      <th>REGN</th>\n",
       "      <th>ROP</th>\n",
       "      <th>SO</th>\n",
       "      <th>T</th>\n",
       "      <th>TSN</th>\n",
       "      <th>TXN</th>\n",
       "      <th>UNH</th>\n",
       "      <th>UPS</th>\n",
       "      <th>VMW</th>\n",
       "      <th>VZ</th>\n",
       "    </tr>\n",
       "  </thead>\n",
       "  <tbody>\n",
       "    <tr>\n",
       "      <th>2023-01-03</th>\n",
       "      <td>124.706364</td>\n",
       "      <td>108.034747</td>\n",
       "      <td>267.175735</td>\n",
       "      <td>336.92</td>\n",
       "      <td>87.163629</td>\n",
       "      <td>93.139744</td>\n",
       "      <td>85.82</td>\n",
       "      <td>195.39</td>\n",
       "      <td>33.029731</td>\n",
       "      <td>45.553478</td>\n",
       "      <td>...</td>\n",
       "      <td>720.47</td>\n",
       "      <td>432.497286</td>\n",
       "      <td>70.500820</td>\n",
       "      <td>17.895453</td>\n",
       "      <td>62.496431</td>\n",
       "      <td>160.846554</td>\n",
       "      <td>514.710629</td>\n",
       "      <td>172.089197</td>\n",
       "      <td>122.32</td>\n",
       "      <td>38.161273</td>\n",
       "    </tr>\n",
       "    <tr>\n",
       "      <th>2023-01-04</th>\n",
       "      <td>125.992614</td>\n",
       "      <td>109.641762</td>\n",
       "      <td>266.266234</td>\n",
       "      <td>341.41</td>\n",
       "      <td>87.626584</td>\n",
       "      <td>93.777890</td>\n",
       "      <td>85.14</td>\n",
       "      <td>203.64</td>\n",
       "      <td>33.650701</td>\n",
       "      <td>46.675097</td>\n",
       "      <td>...</td>\n",
       "      <td>726.49</td>\n",
       "      <td>440.739881</td>\n",
       "      <td>71.098949</td>\n",
       "      <td>18.277426</td>\n",
       "      <td>63.390641</td>\n",
       "      <td>166.720247</td>\n",
       "      <td>500.677758</td>\n",
       "      <td>173.885883</td>\n",
       "      <td>122.92</td>\n",
       "      <td>39.121963</td>\n",
       "    </tr>\n",
       "    <tr>\n",
       "      <th>2023-01-05</th>\n",
       "      <td>124.656510</td>\n",
       "      <td>109.237543</td>\n",
       "      <td>259.978816</td>\n",
       "      <td>328.44</td>\n",
       "      <td>84.710952</td>\n",
       "      <td>92.069624</td>\n",
       "      <td>83.12</td>\n",
       "      <td>204.99</td>\n",
       "      <td>33.581705</td>\n",
       "      <td>46.448805</td>\n",
       "      <td>...</td>\n",
       "      <td>723.76</td>\n",
       "      <td>433.950691</td>\n",
       "      <td>69.010399</td>\n",
       "      <td>18.344271</td>\n",
       "      <td>63.243244</td>\n",
       "      <td>164.512684</td>\n",
       "      <td>486.247917</td>\n",
       "      <td>170.675410</td>\n",
       "      <td>121.73</td>\n",
       "      <td>39.664135</td>\n",
       "    </tr>\n",
       "    <tr>\n",
       "      <th>2023-01-06</th>\n",
       "      <td>129.243135</td>\n",
       "      <td>110.745968</td>\n",
       "      <td>266.137718</td>\n",
       "      <td>332.75</td>\n",
       "      <td>86.996177</td>\n",
       "      <td>94.769469</td>\n",
       "      <td>86.08</td>\n",
       "      <td>213.00</td>\n",
       "      <td>33.916832</td>\n",
       "      <td>47.176874</td>\n",
       "      <td>...</td>\n",
       "      <td>737.15</td>\n",
       "      <td>442.345096</td>\n",
       "      <td>70.236074</td>\n",
       "      <td>18.649850</td>\n",
       "      <td>64.923573</td>\n",
       "      <td>172.623506</td>\n",
       "      <td>486.287614</td>\n",
       "      <td>175.692388</td>\n",
       "      <td>126.14</td>\n",
       "      <td>40.130212</td>\n",
       "    </tr>\n",
       "    <tr>\n",
       "      <th>2023-01-09</th>\n",
       "      <td>129.771594</td>\n",
       "      <td>110.568506</td>\n",
       "      <td>270.625906</td>\n",
       "      <td>341.98</td>\n",
       "      <td>88.069839</td>\n",
       "      <td>96.163571</td>\n",
       "      <td>87.36</td>\n",
       "      <td>208.57</td>\n",
       "      <td>33.404285</td>\n",
       "      <td>47.363810</td>\n",
       "      <td>...</td>\n",
       "      <td>680.49</td>\n",
       "      <td>442.085873</td>\n",
       "      <td>70.108604</td>\n",
       "      <td>18.446927</td>\n",
       "      <td>64.569819</td>\n",
       "      <td>174.121494</td>\n",
       "      <td>486.347159</td>\n",
       "      <td>178.382509</td>\n",
       "      <td>124.27</td>\n",
       "      <td>39.970890</td>\n",
       "    </tr>\n",
       "  </tbody>\n",
       "</table>\n",
       "<p>5 rows × 48 columns</p>\n",
       "</div>"
      ],
      "text/plain": [
       "                  AAPL         ABT         ACN    ADBE        AEE        AEP  \\\n",
       "2023-01-03  124.706364  108.034747  267.175735  336.92  87.163629  93.139744   \n",
       "2023-01-04  125.992614  109.641762  266.266234  341.41  87.626584  93.777890   \n",
       "2023-01-05  124.656510  109.237543  259.978816  328.44  84.710952  92.069624   \n",
       "2023-01-06  129.243135  110.745968  266.137718  332.75  86.996177  94.769469   \n",
       "2023-01-09  129.771594  110.568506  270.625906  341.98  88.069839  96.163571   \n",
       "\n",
       "             AMZN      BA        BAC         BK  ...    REGN         ROP  \\\n",
       "2023-01-03  85.82  195.39  33.029731  45.553478  ...  720.47  432.497286   \n",
       "2023-01-04  85.14  203.64  33.650701  46.675097  ...  726.49  440.739881   \n",
       "2023-01-05  83.12  204.99  33.581705  46.448805  ...  723.76  433.950691   \n",
       "2023-01-06  86.08  213.00  33.916832  47.176874  ...  737.15  442.345096   \n",
       "2023-01-09  87.36  208.57  33.404285  47.363810  ...  680.49  442.085873   \n",
       "\n",
       "                   SO          T        TSN         TXN         UNH  \\\n",
       "2023-01-03  70.500820  17.895453  62.496431  160.846554  514.710629   \n",
       "2023-01-04  71.098949  18.277426  63.390641  166.720247  500.677758   \n",
       "2023-01-05  69.010399  18.344271  63.243244  164.512684  486.247917   \n",
       "2023-01-06  70.236074  18.649850  64.923573  172.623506  486.287614   \n",
       "2023-01-09  70.108604  18.446927  64.569819  174.121494  486.347159   \n",
       "\n",
       "                   UPS     VMW         VZ  \n",
       "2023-01-03  172.089197  122.32  38.161273  \n",
       "2023-01-04  173.885883  122.92  39.121963  \n",
       "2023-01-05  170.675410  121.73  39.664135  \n",
       "2023-01-06  175.692388  126.14  40.130212  \n",
       "2023-01-09  178.382509  124.27  39.970890  \n",
       "\n",
       "[5 rows x 48 columns]"
      ]
     },
     "execution_count": 236,
     "metadata": {},
     "output_type": "execute_result"
    }
   ],
   "source": [
    "# Fills closing_dict dictionary with closing prices for each ticker in closing_tickers\n",
    "for ticker in valid_tickers:\n",
    "    tick_obj = Stock(ticker = ticker)\n",
    "    tick_hist = tick_obj.history(start = start, end = end, interval = interval)\n",
    "\n",
    "    closing_dict[ticker] = tick_hist['Close']\n",
    "\n",
    "closing_df = pd.DataFrame(closing_dict)\n",
    "\n",
    "print(\"Closing Prices Preview:\")\n",
    "closing_df.head()"
   ]
  },
  {
   "cell_type": "markdown",
   "metadata": {},
   "source": [
    "Now we create the daily returns DataFrame."
   ]
  },
  {
   "cell_type": "code",
   "execution_count": 237,
   "metadata": {},
   "outputs": [
    {
     "name": "stdout",
     "output_type": "stream",
     "text": [
      "Percent Returns Preview:\n"
     ]
    },
    {
     "data": {
      "text/html": [
       "<div>\n",
       "<style scoped>\n",
       "    .dataframe tbody tr th:only-of-type {\n",
       "        vertical-align: middle;\n",
       "    }\n",
       "\n",
       "    .dataframe tbody tr th {\n",
       "        vertical-align: top;\n",
       "    }\n",
       "\n",
       "    .dataframe thead th {\n",
       "        text-align: right;\n",
       "    }\n",
       "</style>\n",
       "<table border=\"1\" class=\"dataframe\">\n",
       "  <thead>\n",
       "    <tr style=\"text-align: right;\">\n",
       "      <th></th>\n",
       "      <th>AAPL</th>\n",
       "      <th>ABT</th>\n",
       "      <th>ACN</th>\n",
       "      <th>ADBE</th>\n",
       "      <th>AEE</th>\n",
       "      <th>AEP</th>\n",
       "      <th>AMZN</th>\n",
       "      <th>BA</th>\n",
       "      <th>BAC</th>\n",
       "      <th>BK</th>\n",
       "      <th>...</th>\n",
       "      <th>REGN</th>\n",
       "      <th>ROP</th>\n",
       "      <th>SO</th>\n",
       "      <th>T</th>\n",
       "      <th>TSN</th>\n",
       "      <th>TXN</th>\n",
       "      <th>UNH</th>\n",
       "      <th>UPS</th>\n",
       "      <th>VMW</th>\n",
       "      <th>VZ</th>\n",
       "    </tr>\n",
       "  </thead>\n",
       "  <tbody>\n",
       "    <tr>\n",
       "      <th>2023-01-03</th>\n",
       "      <td>NaN</td>\n",
       "      <td>NaN</td>\n",
       "      <td>NaN</td>\n",
       "      <td>NaN</td>\n",
       "      <td>NaN</td>\n",
       "      <td>NaN</td>\n",
       "      <td>NaN</td>\n",
       "      <td>NaN</td>\n",
       "      <td>NaN</td>\n",
       "      <td>NaN</td>\n",
       "      <td>...</td>\n",
       "      <td>NaN</td>\n",
       "      <td>NaN</td>\n",
       "      <td>NaN</td>\n",
       "      <td>NaN</td>\n",
       "      <td>NaN</td>\n",
       "      <td>NaN</td>\n",
       "      <td>NaN</td>\n",
       "      <td>NaN</td>\n",
       "      <td>NaN</td>\n",
       "      <td>NaN</td>\n",
       "    </tr>\n",
       "    <tr>\n",
       "      <th>2023-01-04</th>\n",
       "      <td>0.010314</td>\n",
       "      <td>0.014875</td>\n",
       "      <td>-0.003404</td>\n",
       "      <td>0.013327</td>\n",
       "      <td>0.005311</td>\n",
       "      <td>0.006851</td>\n",
       "      <td>-0.007924</td>\n",
       "      <td>0.042223</td>\n",
       "      <td>0.018800</td>\n",
       "      <td>0.024622</td>\n",
       "      <td>...</td>\n",
       "      <td>0.008356</td>\n",
       "      <td>0.019058</td>\n",
       "      <td>0.008484</td>\n",
       "      <td>0.021345</td>\n",
       "      <td>0.014308</td>\n",
       "      <td>0.036517</td>\n",
       "      <td>-0.027264</td>\n",
       "      <td>0.010440</td>\n",
       "      <td>0.004905</td>\n",
       "      <td>0.025174</td>\n",
       "    </tr>\n",
       "    <tr>\n",
       "      <th>2023-01-05</th>\n",
       "      <td>-0.010605</td>\n",
       "      <td>-0.003687</td>\n",
       "      <td>-0.023613</td>\n",
       "      <td>-0.037990</td>\n",
       "      <td>-0.033273</td>\n",
       "      <td>-0.018216</td>\n",
       "      <td>-0.023726</td>\n",
       "      <td>0.006629</td>\n",
       "      <td>-0.002050</td>\n",
       "      <td>-0.004848</td>\n",
       "      <td>...</td>\n",
       "      <td>-0.003758</td>\n",
       "      <td>-0.015404</td>\n",
       "      <td>-0.029375</td>\n",
       "      <td>0.003657</td>\n",
       "      <td>-0.002325</td>\n",
       "      <td>-0.013241</td>\n",
       "      <td>-0.028821</td>\n",
       "      <td>-0.018463</td>\n",
       "      <td>-0.009681</td>\n",
       "      <td>0.013858</td>\n",
       "    </tr>\n",
       "    <tr>\n",
       "      <th>2023-01-06</th>\n",
       "      <td>0.036794</td>\n",
       "      <td>0.013809</td>\n",
       "      <td>0.023690</td>\n",
       "      <td>0.013123</td>\n",
       "      <td>0.026977</td>\n",
       "      <td>0.029324</td>\n",
       "      <td>0.035611</td>\n",
       "      <td>0.039075</td>\n",
       "      <td>0.009979</td>\n",
       "      <td>0.015675</td>\n",
       "      <td>...</td>\n",
       "      <td>0.018501</td>\n",
       "      <td>0.019344</td>\n",
       "      <td>0.017761</td>\n",
       "      <td>0.016658</td>\n",
       "      <td>0.026569</td>\n",
       "      <td>0.049302</td>\n",
       "      <td>0.000082</td>\n",
       "      <td>0.029395</td>\n",
       "      <td>0.036228</td>\n",
       "      <td>0.011751</td>\n",
       "    </tr>\n",
       "    <tr>\n",
       "      <th>2023-01-09</th>\n",
       "      <td>0.004089</td>\n",
       "      <td>-0.001602</td>\n",
       "      <td>0.016864</td>\n",
       "      <td>0.027739</td>\n",
       "      <td>0.012341</td>\n",
       "      <td>0.014710</td>\n",
       "      <td>0.014870</td>\n",
       "      <td>-0.020798</td>\n",
       "      <td>-0.015112</td>\n",
       "      <td>0.003962</td>\n",
       "      <td>...</td>\n",
       "      <td>-0.076864</td>\n",
       "      <td>-0.000586</td>\n",
       "      <td>-0.001815</td>\n",
       "      <td>-0.010881</td>\n",
       "      <td>-0.005449</td>\n",
       "      <td>0.008678</td>\n",
       "      <td>0.000122</td>\n",
       "      <td>0.015312</td>\n",
       "      <td>-0.014825</td>\n",
       "      <td>-0.003970</td>\n",
       "    </tr>\n",
       "  </tbody>\n",
       "</table>\n",
       "<p>5 rows × 48 columns</p>\n",
       "</div>"
      ],
      "text/plain": [
       "                AAPL       ABT       ACN      ADBE       AEE       AEP  \\\n",
       "2023-01-03       NaN       NaN       NaN       NaN       NaN       NaN   \n",
       "2023-01-04  0.010314  0.014875 -0.003404  0.013327  0.005311  0.006851   \n",
       "2023-01-05 -0.010605 -0.003687 -0.023613 -0.037990 -0.033273 -0.018216   \n",
       "2023-01-06  0.036794  0.013809  0.023690  0.013123  0.026977  0.029324   \n",
       "2023-01-09  0.004089 -0.001602  0.016864  0.027739  0.012341  0.014710   \n",
       "\n",
       "                AMZN        BA       BAC        BK  ...      REGN       ROP  \\\n",
       "2023-01-03       NaN       NaN       NaN       NaN  ...       NaN       NaN   \n",
       "2023-01-04 -0.007924  0.042223  0.018800  0.024622  ...  0.008356  0.019058   \n",
       "2023-01-05 -0.023726  0.006629 -0.002050 -0.004848  ... -0.003758 -0.015404   \n",
       "2023-01-06  0.035611  0.039075  0.009979  0.015675  ...  0.018501  0.019344   \n",
       "2023-01-09  0.014870 -0.020798 -0.015112  0.003962  ... -0.076864 -0.000586   \n",
       "\n",
       "                  SO         T       TSN       TXN       UNH       UPS  \\\n",
       "2023-01-03       NaN       NaN       NaN       NaN       NaN       NaN   \n",
       "2023-01-04  0.008484  0.021345  0.014308  0.036517 -0.027264  0.010440   \n",
       "2023-01-05 -0.029375  0.003657 -0.002325 -0.013241 -0.028821 -0.018463   \n",
       "2023-01-06  0.017761  0.016658  0.026569  0.049302  0.000082  0.029395   \n",
       "2023-01-09 -0.001815 -0.010881 -0.005449  0.008678  0.000122  0.015312   \n",
       "\n",
       "                 VMW        VZ  \n",
       "2023-01-03       NaN       NaN  \n",
       "2023-01-04  0.004905  0.025174  \n",
       "2023-01-05 -0.009681  0.013858  \n",
       "2023-01-06  0.036228  0.011751  \n",
       "2023-01-09 -0.014825 -0.003970  \n",
       "\n",
       "[5 rows x 48 columns]"
      ]
     },
     "execution_count": 237,
     "metadata": {},
     "output_type": "execute_result"
    }
   ],
   "source": [
    "# We will use this later\n",
    "stock_returns_lists = {}\n",
    "\n",
    "# Fills returns dictionary with the pct returns for each ticker in closing_df\n",
    "for stock in closing_df.columns:\n",
    "    stock_returns = closing_df.loc[:,stock].pct_change()\n",
    "    returns_dict[stock] = stock_returns\n",
    "    \n",
    "    stock_returns_lists = stock_returns.tolist()\n",
    "\n",
    "returns_df = pd.DataFrame(returns_dict)\n",
    "\n",
    "print(\"Percent Returns Preview:\")\n",
    "returns_df.head()"
   ]
  },
  {
   "attachments": {},
   "cell_type": "markdown",
   "metadata": {},
   "source": [
    "#### 2.2 The Points System\n",
    "\n",
    "We use a volatility metric and a correlation metric to select the tickers which will use in our final portfolio. Here's how it works:\n",
    "\n",
    "1. The <i><b>standard deviation of each stock's percent returns (daily)</i></b> will be used as the <b>volatility</b> metric.\n",
    "- The least volatile stocks will receive the most points, the most volatile stock will receive 0 points.\n",
    "\n",
    "2. The <i><b>correlation of the daily % returns of each stock</i></b> with the <i><b>average of the daily % returns of every stock in the portfolio combined</i></b> will be used as the <b>correlation</b> metric.\n",
    "- The stocks that are either most or least correlated with the entire portfolio (i.e correlation metric is closest to -1 or 1) will receive the most points, and the points will converge to 0 (with the stock in the middle receiving 0 points (or 1 point if the number of tickers is even)).\n",
    "\n",
    "3. The \"score\" of each ticker is calculated by:\n",
    "\n",
    " \\begin{align*}\n",
    "S= (Pv)(Wv) + (Pc)(Wc) \n",
    "\\end{align*}\n",
    "\n",
    "Where:\n",
    "- Pv is the points earned for volatility\n",
    "- Wv is the weight of importance for volatility (Wv = 2 is recommended based on trials conducted by team, but should be changed based on market environment (e.g volatile market, increase weight))\n",
    "- Pc is the points earned for correlation\n",
    "- Wc is the weight of importance for correlation (Wc = 1 is recommended based on trials conducted by team)\n",
    "\n",
    "4. We sort the scores of each ticker in descending order, and pick the tickers with the highest scores. These tickers will be used in the final portfolio. We use this final list of the tickers to filter our existing close prices and percent return DataFrames such that each only has values for each ticker in our list, and store these as new DataFrames.\n",
    "\n",
    "- A \"weight of importance\" is simply a number that multiplies each element in the set of scores. The user of the program may choose the ratio of importance of the volatility metric to the correlation metric.\n",
    "\n",
    "Note: The score difference across placings for either volatility or correlation is linear (i.e if 1st place has 5 more points than 6th place, 6th place has 5 more points than 11th place)."
   ]
  },
  {
   "cell_type": "code",
   "execution_count": 238,
   "metadata": {},
   "outputs": [],
   "source": [
    "# MODIFIABLE #\n",
    "\n",
    "# Importance ratios\n",
    "weight_volatility = 2\n",
    "weight_correlation = 1"
   ]
  },
  {
   "attachments": {},
   "cell_type": "markdown",
   "metadata": {},
   "source": [
    "We first collect the volatility of the valid tickers"
   ]
  },
  {
   "cell_type": "code",
   "execution_count": 239,
   "metadata": {},
   "outputs": [],
   "source": [
    "volatilities = {}\n",
    "\n",
    "# Calculate volatility for every column in returns_df\n",
    "for ticker in returns_df.keys():\n",
    "    stock_vol = returns_df[ticker].std()\n",
    "    volatilities[ticker] = stock_vol"
   ]
  },
  {
   "attachments": {},
   "cell_type": "markdown",
   "metadata": {},
   "source": [
    "Then we collect the correlation."
   ]
  },
  {
   "cell_type": "code",
   "execution_count": 240,
   "metadata": {},
   "outputs": [],
   "source": [
    "correlations = {}\n",
    "\n",
    "# Grab the average percent return across all tickers for each day present in corr_df\n",
    "port_returns = []\n",
    "for date in returns_df.index:\n",
    "    port_returns.append(returns_df.loc[date,:].mean())\n",
    "\n",
    "# Create a DataFrame with one column: the average percent return of the 'combined' portfolio\n",
    "port_returns_df = pd.DataFrame(pd.Series(data = port_returns, index = returns_df.index))\n",
    "port_returns_df.columns = ['portfolio']\n",
    "\n",
    "# Join the returns DataFrame to the portfolio returns DataFrame\n",
    "port_returns_df = port_returns_df.merge(returns_df, left_index = True, right_index = True)\n",
    "\n",
    "# Calculate correlation matrix \n",
    "stocks_corr = port_returns_df.corr()\n",
    "\n",
    "# Grab the correlation of each ticker with the 'combined' portfolio\n",
    "for ticker in valid_tickers:\n",
    "    correlations[ticker] = stocks_corr.loc['portfolio',ticker]"
   ]
  },
  {
   "attachments": {},
   "cell_type": "markdown",
   "metadata": {},
   "source": [
    "We sort the volatility and correlation rankings by their respective scores."
   ]
  },
  {
   "cell_type": "code",
   "execution_count": 241,
   "metadata": {},
   "outputs": [],
   "source": [
    "# Sort the volatilities dictionary in ascending order, collect keys (representing the stocks, ordered from lowest to highest volatility)\n",
    "volatility_rankings = dict(sorted(volatilities.items(), key=lambda item: item[1]))\n",
    "\n",
    "# Sort the correlations dictionary in ascending order, collect keys (representing the stocks, ordered from lowest to highest correlation)\n",
    "correlation_rankings = dict(sorted(correlations.items(), key=lambda item: item[1]))"
   ]
  },
  {
   "attachments": {},
   "cell_type": "markdown",
   "metadata": {},
   "source": [
    "We now set up the scores for volatility and correlation (based on the weights of importance) as described in the beginning of this section. Recall that stocks are awarded the most points for the least volatility, and as well the most points for correlating either the most or the least with the combined / equally weighted / aggregated portfolio."
   ]
  },
  {
   "cell_type": "code",
   "execution_count": 242,
   "metadata": {},
   "outputs": [],
   "source": [
    "# Ceiling for scores, also number of tickers in final portfolio\n",
    "num_ticks = len(valid_tickers)\n",
    "\n",
    "# Volatility scores\n",
    "#   The ticker with the lowest volatility will receive the most points, and the points decrease for each more volatile ticker.\n",
    "vol_scores = list(reversed(list(range(0, num_ticks))))\n",
    "\n",
    "# Correlation scores\n",
    "#   The highest points are awarded to the tickers on either extreme (close to -1 or 1), and points converge to the middle (lowest points)\n",
    "#   2 Cases, we need to know whether to add a score of 0 (for the middle score of an odd number of tickers)\n",
    "#   The range for each side is the number of tickers // 2,\n",
    "#     with every value multiplied by 2 (each extreme has the same score as the highest in vol_scores)\n",
    "if num_ticks % 2 == 0:\n",
    "    corr_scores_right = list(map(lambda s: s * 2, list(range(0, num_ticks // 2))))\n",
    "    corr_scores_left = list(map(lambda s: s * 2, list(reversed(list(range(0, num_ticks // 2))))))\n",
    "else:\n",
    "    corr_scores_right = list(map(lambda s: s * 2, list(range(1, num_ticks // 2 + 1))))\n",
    "    corr_scores_left = list(map(lambda s: s * 2, list(reversed(list(range(1, num_ticks // 2 + 1))))))\n",
    "    corr_scores_left.append(0)\n",
    "\n",
    "# Add left and right score sets\n",
    "corr_scores = corr_scores_left + corr_scores_right\n",
    "\n",
    "# Account for the importance ratios\n",
    "vol_scores = [score * weight_volatility for score in vol_scores]\n",
    "corr_scores = [score * weight_correlation for score in corr_scores]\n"
   ]
  },
  {
   "attachments": {},
   "cell_type": "markdown",
   "metadata": {},
   "source": [
    "We now award each stock its appropriate score. We grab those with the highest combined score, and save them to a final ticker list. We will use these tickers in the final portfolio."
   ]
  },
  {
   "cell_type": "code",
   "execution_count": 243,
   "metadata": {},
   "outputs": [
    {
     "name": "stdout",
     "output_type": "stream",
     "text": [
      "Scores:\n",
      " {'BRK-B': 136, 'CPB': 130, 'LMT': 124, 'ROP': 116, 'PG': 108, 'KO': 104, 'ED': 98, 'CVS': 98, 'AAPL': 98, 'GRMN': 96, 'IBM': 92, 'UNH': 90, 'TSN': 90, 'NOC': 90, 'GILD': 90, 'VZ': 88, 'TXN': 86, 'PM': 86, 'SO': 84, 'CSCO': 78, 'INFY': 76, 'CMS': 76, 'ACN': 74, 'REGN': 72, 'VMW': 70, 'D': 68, 'AEP': 68, 'AEE': 68, 'GO': 62, 'CMCSA': 62, 'UPS': 56, 'GE': 56, 'CF': 52, 'ABT': 50, 'BAC': 48, 'T': 46, 'MS': 46, 'ADBE': 42, 'C': 38, 'BA': 38, 'MSFT': 36, 'BK': 36, 'GM': 32, 'F': 32, 'MNSO': 28, 'JPM': 28, 'GOOG': 10, 'AMZN': 8}\n",
      "Volatility:\n",
      " {'KO': 94, 'PG': 92, 'BRK-B': 90, 'IBM': 88, 'LMT': 86, 'CPB': 84, 'PM': 82, 'ROP': 80, 'ED': 78, 'SO': 76, 'VZ': 74, 'CVS': 72, 'TSN': 70, 'CMS': 68, 'AEE': 66, 'CSCO': 64, 'AEP': 62, 'GILD': 60, 'AAPL': 58, 'D': 56, 'VMW': 54, 'GRMN': 52, 'ABT': 50, 'UNH': 48, 'NOC': 46, 'TXN': 44, 'INFY': 42, 'ACN': 40, 'GE': 38, 'REGN': 36, 'MS': 34, 'UPS': 32, 'GO': 30, 'JPM': 28, 'BK': 26, 'CMCSA': 24, 'T': 22, 'BA': 20, 'BAC': 18, 'C': 16, 'MSFT': 14, 'CF': 12, 'ADBE': 10, 'GOOG': 8, 'GM': 6, 'F': 4, 'AMZN': 2, 'MNSO': 0}\n",
      "Correlation:\n",
      " {'CPB': 46, 'NOC': 44, 'UNH': 42, 'CF': 40, 'LMT': 38, 'REGN': 36, 'INFY': 34, 'GO': 32, 'GILD': 30, 'MNSO': 28, 'CVS': 26, 'T': 24, 'MSFT': 22, 'ED': 20, 'GE': 18, 'PG': 16, 'VZ': 14, 'D': 12, 'KO': 10, 'CMS': 8, 'AEP': 6, 'PM': 4, 'GOOG': 2, 'ABT': 0, 'JPM': 0, 'AEE': 2, 'IBM': 4, 'AMZN': 6, 'SO': 8, 'BK': 10, 'MS': 12, 'CSCO': 14, 'VMW': 16, 'BA': 18, 'TSN': 20, 'C': 22, 'UPS': 24, 'GM': 26, 'F': 28, 'BAC': 30, 'ADBE': 32, 'ACN': 34, 'ROP': 36, 'CMCSA': 38, 'AAPL': 40, 'TXN': 42, 'GRMN': 44, 'BRK-B': 46}\n",
      "\n",
      "Stocks in Portfolio (25): \n",
      "['BRK-B', 'CPB', 'LMT', 'ROP', 'PG', 'KO', 'ED', 'CVS', 'AAPL', 'GRMN', 'IBM', 'UNH', 'TSN', 'NOC', 'GILD', 'VZ', 'TXN', 'PM', 'SO', 'CSCO', 'INFY', 'CMS', 'ACN', 'REGN', 'VMW']\n"
     ]
    }
   ],
   "source": [
    "# Replace the values in the correlation and volatility dictionaries with the score earned\n",
    "for rank, ticker in enumerate(volatility_rankings.keys()):\n",
    "    volatility_rankings[ticker] = vol_scores[rank]\n",
    "for rank, ticker in enumerate(correlation_rankings.keys()):\n",
    "    correlation_rankings[ticker] = corr_scores[rank]\n",
    "\n",
    "# Add the scores together for each ticker\n",
    "scores = {}\n",
    "for ticker in valid_tickers:\n",
    "    scores[ticker] = correlation_rankings[ticker] + volatility_rankings[ticker]\n",
    "\n",
    "# Sort the scores dictionary by total score (ascending)\n",
    "scores = dict(reversed(sorted(scores.items(), key=lambda item: item[1])))\n",
    "\n",
    "# Show tickers and their overall scores\n",
    "print(f\"Scores:\\n {scores}\")\n",
    "\n",
    "# Show tickers and their volatility scores\n",
    "print(f\"Volatility:\\n {volatility_rankings}\")\n",
    "\n",
    "# Show tickers and their correlation scores\n",
    "print(f\"Correlation:\\n {correlation_rankings}\")\n",
    "\n",
    "# If the number of tickers is greater than max_tickers, grab the first 'max_tickers' tickers to use in final portfolio, else use all of them\n",
    "if num_ticks > max_tickers:\n",
    "    tickers_final = list(scores.keys())[0:max_tickers]\n",
    "    num_ticks_final = max_tickers\n",
    "else:\n",
    "    tickers_final = list(scores.keys())\n",
    "    num_ticks_final = num_ticks\n",
    "\n",
    "# Get percent returns DataFrame and price DataFrame for final tickers\n",
    "returns_df_final = returns_df[tickers_final]\n",
    "closing_df_final = closing_df[tickers_final]\n",
    "\n",
    "print(f\"\\nStocks in Portfolio ({num_ticks_final}): \\n{tickers_final}\")"
   ]
  },
  {
   "cell_type": "markdown",
   "metadata": {},
   "source": [
    "We define a uniform order for data related to our tickers here. We do this for the sake of speed and memory optimization.\n",
    "\n",
    "In the Monte-Carlo simulation, we generate many lists that implicitly reference this uniform order, and also save many of these lists in the computer's temporary memory. Therefore, using a dictionary to explicitly link data to a specific ticker would be inefficient, especially since we don't perform any O(n) searches on the data that follows the uniform order."
   ]
  },
  {
   "cell_type": "code",
   "execution_count": 244,
   "metadata": {},
   "outputs": [],
   "source": [
    "# Get the standard order of columns / values from the keys of the (sorted) scores dictionary\n",
    "#  To save time and space, any list of values we created related to the tickers can be referenced back to this order\n",
    "tickers_uniform_order = list(list(scores.keys())[:num_ticks_final])"
   ]
  },
  {
   "attachments": {},
   "cell_type": "markdown",
   "metadata": {},
   "source": [
    "## 3. CREATING THE OPTIMAL PORTFOLIO:\n",
    "\n",
    "THE GOAL:\n",
    "\n",
    "We want to use MSCAPM to determine which allocation of capital yields the lowest absolute expected return.\n",
    "\n",
    "THE PROCESS:\n",
    "\n",
    "Since we want to use MSCAPM as the basis for judgement, we first gather a list of custom betas, one for each ticker. We opt to not use the default beta provided by Alpha Vantage, as it is not available for all tickers, and the custom beta may be changed to bias a chosen period of market activity. \n",
    "\n",
    "We then implement multithreading to efficiently* generate five-hundred thousand hypothetical portfolios in a Monte-Carlo simulation, each with a random** allocation of capital (weight) to each security. \n",
    "\n",
    "We save the MSCAPM score (expected return) of each weighting, as well as the best MSCAPM score and the weights associated with it. Finally, we generate the final portfolio, with each security being weighted according to the \"optimal weights\" (those that yield the lowest absolute MSCAPM score).\n",
    "\n",
    "\\* Multithreading is, in theory, not the most efficient method. We will get into that soon.\n",
    "\n",
    "** The weighting of the stocks is not completely random, and is influenced by the 'score' of the stock in the points system. This is explained in the appropriate section."
   ]
  },
  {
   "attachments": {},
   "cell_type": "markdown",
   "metadata": {},
   "source": [
    "#### 3.1 Stock Betas\n",
    "\n",
    "We first create a DataFrame storing the percent returns of the stock that will represent the market (the 'market stock'), and merge this DataFrame with the DataFrame containing the percent returns of the stocks to be used in the final portfolio.\n",
    "\n",
    "A beta matrix is then generated using the merged DataFrame. The beta value of each stock is stored in a dictionary.\n",
    "\n",
    "Finally, we store the beta values in a list (following the uniform order of tickers) that can be called later.\n",
    "\n",
    "Beta is calculated as follows:\n",
    "\n",
    "Consider Security $X$ with returns given by $x_i$, and let the corresponding market returns be $r_M$.  Beta is then given by:\n",
    "\n",
    "\\begin{align*}\n",
    "\\beta=\\frac{COV(x_i,r_M)}{\\sigma^2(r_M)}\n",
    "\\end{align*}\n",
    "\n",
    "We decided to use the Vanguard Total Stock Market Index Admiral Shares (VTSAX) as our market stock, as we believe it to be the most all-encompassing index fund (Alpha Vantage was not sufficient in providing tickers like ^NYA). We assume that all tickers passed are US-listed, but the market which we are taking beta relative to can be changed if that is not the case, or if other factors want to be considered (such as when all tickers are from the S&P 500)."
   ]
  },
  {
   "cell_type": "code",
   "execution_count": 245,
   "metadata": {},
   "outputs": [],
   "source": [
    "# MODIFIABLE #\n",
    "\n",
    "# Reference market stock for beta calculations\n",
    "market_ticker = \"VTSAX\"\n",
    "market_name = \"Vanguard Total Market\""
   ]
  },
  {
   "cell_type": "code",
   "execution_count": 246,
   "metadata": {},
   "outputs": [
    {
     "name": "stdout",
     "output_type": "stream",
     "text": [
      "Portfolio's Stocks' Betas Preview:\n",
      "{'BRK-B': 0.7727032138498806, 'CPB': -0.016274668857151283, 'LMT': 0.2412733195600808, 'ROP': 0.744033636808304, 'PG': 0.34638775536559185, 'KO': 0.2983936311718197, 'ED': 0.36314410798538094, 'CVS': 0.4538807289393901, 'AAPL': 1.0704726635255648, 'GRMN': 1.0234375154638409, 'IBM': 0.47392799888259646, 'UNH': 0.2720251696804722, 'TSN': 0.7076967828312207, 'NOC': 0.178630974475319, 'GILD': 0.39560478830462864, 'VZ': 0.46130713409284574, 'TXN': 1.0856058862837326, 'PM': 0.4749481724680164, 'SO': 0.5568378797046024, 'CSCO': 0.7435976344532864, 'INFY': 0.4953195447274111, 'CMS': 0.5076639485337893, 'ACN': 1.190783785317304, 'REGN': 0.47101696878229327, 'VMW': 0.8398183945652173}\n"
     ]
    }
   ],
   "source": [
    "# Creates a DataFrame of the percent returns of the stock representing the market\n",
    "market_obj = Stock(ticker = market_ticker)\n",
    "market_hist = market_obj.history(start = start, end = end, interval = interval)\n",
    "market_returns_series = market_hist.loc[:, 'Close'].pct_change()\n",
    "market_returns_df = pd.DataFrame({market_ticker : pd.Series(data = market_returns_series, index = market_hist.index)})\n",
    "\n",
    "# We will use this later\n",
    "market_returns_list = market_returns_series.tolist()[1:]\n",
    "\n",
    "# Merges returns_df_final and the market_returns_df together and drops the first row because there is no percent return for the first day\n",
    "all_returns_df = returns_df_final.merge(market_returns_df, left_index = True, right_index = True)\n",
    "all_returns_df.drop(index = all_returns_df.index[0], inplace = True)\n",
    "\n",
    "# Calculates the variance of the stock representing the market\n",
    "market_var = market_returns_df[market_ticker].var()\n",
    "\n",
    "# Creates the beta matrix of the merged DataFrame\n",
    "beta_matrix = all_returns_df.cov() / market_var\n",
    "\n",
    "# Prints Beta Matrix\n",
    "#print(\"Portfolio's Beta Matrix:\")\n",
    "#print(beta_matrix.head())\n",
    "\n",
    "tickers_beta_final = {}\n",
    "# Dictionary of the betas of each stock\n",
    "for ticker in beta_matrix.index:\n",
    "    # We don't want the market ticker's beta in relation to itself\n",
    "    if ticker == market_ticker:\n",
    "        continue\n",
    "    \n",
    "    beta_val = beta_matrix.loc[ticker, market_ticker]\n",
    "    tickers_beta_final[ticker] = beta_val\n",
    "\n",
    "# Prints the Beta of each stock\n",
    "print(\"Portfolio's Stocks' Betas Preview:\")\n",
    "print(tickers_beta_final)"
   ]
  },
  {
   "cell_type": "code",
   "execution_count": 247,
   "metadata": {},
   "outputs": [],
   "source": [
    "# Order the betas by the uniform order\n",
    "tickers_beta_final = {ticker: tickers_beta_final[ticker] for ticker in tickers_uniform_order}\n",
    "\n",
    "# We will use this later\n",
    "beta_list = [beta for beta in tickers_beta_final.values()]"
   ]
  },
  {
   "attachments": {},
   "cell_type": "markdown",
   "metadata": {},
   "source": [
    "#### 3.2 Weight Generation\n",
    "\n",
    "Here we define our weight generation function, aptly named 'weight_generation'. It will be used to select random weights for each security, for each iteration of the simulation.\n",
    "\n",
    "It operates according to the following rules:\n",
    "\n",
    "- The goal is to generate a list of num_ticks_final numbers (weights), summing to 1 (100%), all between lowest_weight and highest_weight.\n",
    "\n",
    "- The tickers are split into num_ticks_final // w groups of w (n groups), plus part of the remainder, n % w, which is dispersed evenly over the groups, starting from the left.\n",
    "\n",
    "- There is a bias in the distribution of the weight. We use a geometrical sequence to generate an allocation of weight to each group of stocks. The common ratio of the sequence is determined by the user (within a specified range), and a given group g1 will be assigned g0 * r percent of the total weight of the portfolio.\n",
    "\n",
    "- Within each group, the numbers are generated randomly, but such that they add up to the group's assigned allocation of weight.\n",
    "\n",
    "We do this so that the weight of the portfolio is biased to the stocks with higher scores (recall that the uniform order of tickers is in order of highest to lowest score (left to right), so we want the earlier indices to have higher weights).\n",
    "\n",
    "We decided to place some of the decision load for portfolio generation on the points system, since we didn't want the program to rely on only one equation (MSCAPM) to determine portfolio allocation."
   ]
  },
  {
   "cell_type": "markdown",
   "metadata": {},
   "source": [
    "We first initialize some variables and calculate the minimum and maximum possible r value."
   ]
  },
  {
   "cell_type": "code",
   "execution_count": 248,
   "metadata": {},
   "outputs": [],
   "source": [
    "# Target number of weights per group (and number of weights in last group)\n",
    "w = 5\n",
    "# Number of groups\n",
    "n = num_ticks_final // w\n",
    "# Minimum allocation for the last group\n",
    "m = (w + (n % w // (n // w))) * lowest_weight"
   ]
  },
  {
   "cell_type": "code",
   "execution_count": 249,
   "metadata": {},
   "outputs": [],
   "source": [
    "# Test variables\n",
    "# Starting minimum r\n",
    "r_min = 0.01\n",
    "# This will not change\n",
    "r_max = 1\n",
    "# Initial calculations of the first weight and last weight of the groups\n",
    "w_1_test = (1 - r_min) / (1 - r_min**w)\n",
    "w_last_test = w_1_test * r_min**(w-1) \n",
    "# Initial increment\n",
    "inc = 0.1\n",
    "\n",
    "# Continue incrementing r until the last weight is essentially equal to the minimum weight for a group\n",
    "if w_last_test < m:\n",
    "    while True:\n",
    "        # Once the increment is small enough we have a pretty accurate r_min\n",
    "        if inc <= 0.000000001:\n",
    "            break\n",
    "        r_min += inc\n",
    "\n",
    "        w_1_test = (1 - r_min) / (1 - r_min**w)\n",
    "        w_last_test = w_1_test * r_min**(w-1) \n",
    "\n",
    "        # Just in case\n",
    "        if w_last_test == m:\n",
    "            break\n",
    "        elif w_last_test > m:\n",
    "            r_min -= inc\n",
    "            inc /= 10\n",
    "\n",
    "else:\n",
    "    print(2/0)"
   ]
  },
  {
   "cell_type": "code",
   "execution_count": 250,
   "metadata": {},
   "outputs": [
    {
     "name": "stdout",
     "output_type": "stream",
     "text": [
      "Minimum r: 0.7394289269999995\n",
      "Maximum r: 1\n"
     ]
    }
   ],
   "source": [
    "print(f'Minimum r: {r_min}\\nMaximum r: {r_max}')"
   ]
  },
  {
   "cell_type": "markdown",
   "metadata": {},
   "source": [
    "We now initialize r, calculate the number of tickers per group, and create the groups."
   ]
  },
  {
   "cell_type": "code",
   "execution_count": 251,
   "metadata": {},
   "outputs": [],
   "source": [
    "# MODIFIABLE #\n",
    "\n",
    "# Allocation distribution (common ratio left bias)\n",
    "#   At r = 1, all groups will be of equal allocation\n",
    "r = 0.739429"
   ]
  },
  {
   "cell_type": "code",
   "execution_count": 252,
   "metadata": {},
   "outputs": [],
   "source": [
    "assert(r >= r_min and r <= r_max)\n",
    "\n",
    "# Compute the first term\n",
    "w_1 =  (1 - r) / (1 - r**w)\n",
    "\n",
    "# Generate the terms\n",
    "weights_per_group = [w_1 * r**(i-1) for i in range(1, n+1)]\n",
    "\n",
    "#weights_per_group"
   ]
  },
  {
   "cell_type": "code",
   "execution_count": 253,
   "metadata": {},
   "outputs": [],
   "source": [
    "# Determine the split of the groups\n",
    "quotient, remainder = divmod(num_ticks_final, w)\n",
    "groups = [w] * quotient\n",
    "if remainder:\n",
    "    c = 0\n",
    "    while remainder:\n",
    "        groups[c] += 1\n",
    "        remainder -= 1\n",
    "        c += 1\n",
    "\n",
    "#groups"
   ]
  },
  {
   "cell_type": "markdown",
   "metadata": {},
   "source": [
    "Now we define the weight generation function."
   ]
  },
  {
   "cell_type": "code",
   "execution_count": 254,
   "metadata": {},
   "outputs": [],
   "source": [
    "# Returns weights for the monte-carlo simulation\n",
    "def weight_generation():\n",
    "    weights = []\n",
    "\n",
    "    for i, group_size in enumerate(groups):\n",
    "        # What the weights in the group must add to\n",
    "        curr_weight = weights_per_group[i]\n",
    "\n",
    "        # Weight selector (see @ in references)\n",
    "        adjusted_k = curr_weight - lowest_weight * group_size\n",
    "        while True:\n",
    "            endpoints = sorted(uniform(0, adjusted_k) for _ in range(group_size - 1))\n",
    "            values = [*(end - begin + lowest_weight\n",
    "                        for begin, end in zip([0] + endpoints,\n",
    "                                            endpoints + [adjusted_k]))]\n",
    "            if all(v <= highest_weight for v in values):\n",
    "                weights.extend(values)\n",
    "                break\n",
    "            \n",
    "    return weights"
   ]
  },
  {
   "attachments": {},
   "cell_type": "markdown",
   "metadata": {},
   "source": [
    "#### 3.3 Monte Carlo Simulation\n",
    "\n",
    "We now begin the process of portfolio optimization.\n",
    "\n",
    "We first find the market's expected return, as well as the risk-free rate, both for the period for which we want to calculate the portfolio's expected return. \n",
    "\n",
    "Then, we run the simulation and take note of the lowest absolute MSCAPM score and the weights associated with it, and generate a portfolio (the <b>optimal</b> portfolio).\n",
    "\n",
    "Note: In the code,\n",
    "\n",
    "rm = market expected return, and\n",
    "\n",
    "rf = risk-free rate.\n",
    "\n",
    "Reminder of MSCAPM calculation:\n",
    "\n",
    "![MSCAPM](pub/pricing_model.jpg)"
   ]
  },
  {
   "cell_type": "code",
   "execution_count": 255,
   "metadata": {},
   "outputs": [],
   "source": [
    "# MODIFIABLE #\n",
    "\n",
    "# Number of iterations for Monte-Carlo\n",
    "num_hypothetical_portfolios = 500_000"
   ]
  },
  {
   "cell_type": "code",
   "execution_count": 256,
   "metadata": {},
   "outputs": [],
   "source": [
    "new_rf = rf / (365 / numdays) # We assume rf to be linear"
   ]
  },
  {
   "cell_type": "markdown",
   "metadata": {},
   "source": [
    "We define a function called 'expected_return_x_days', which calculates a simple expected return based on a list of historical returns."
   ]
  },
  {
   "cell_type": "code",
   "execution_count": 257,
   "metadata": {},
   "outputs": [],
   "source": [
    "# Consumes a list of daily returns, returns the expected return for numdays amount of days (based on momentum)\n",
    "def expected_return_x_days(daily_returns_list):\n",
    "    # Compute the total compounded return\n",
    "    total_compounded_return = 1\n",
    "    for daily_return in daily_returns_list:\n",
    "        total_compounded_return *= 1 + daily_return\n",
    "        \n",
    "    # Calculate the geometric average return\n",
    "    average_daily_return = total_compounded_return ** (1 / len(daily_returns_list)) - 1\n",
    "    \n",
    "    # Calculate the expected return for numdays\n",
    "    expected_return = (1 + average_daily_return) ** numdays - 1\n",
    "    \n",
    "    return expected_return"
   ]
  },
  {
   "cell_type": "markdown",
   "metadata": {},
   "source": [
    "Finally, we initialize the queues for the simulation, the market return rm, the quantity 'rm - rf', and perform a sanity check."
   ]
  },
  {
   "cell_type": "code",
   "execution_count": 258,
   "metadata": {},
   "outputs": [],
   "source": [
    "# Initializing queue for weights function, and list to store values\n",
    "global queueW\n",
    "queueW = Queue()\n",
    "queueW_getter = []\n",
    "\n",
    "# Initialize optimal weighting list to prevent errors\n",
    "optimal_weighting = []\n",
    "\n",
    "# Get market expected return over numdays days\n",
    "rm = expected_return_x_days(daily_returns_list = market_returns_list)\n",
    "\n",
    "# So we don't have to evaluate it 500000 times :)\n",
    "rm_minus_rf = rm - new_rf\n",
    "\n",
    "# Initial sanity check\n",
    "assert((highest_weight * num_ticks_final >= 1) and (lowest_weight * num_ticks_final <= 1))"
   ]
  },
  {
   "attachments": {},
   "cell_type": "markdown",
   "metadata": {},
   "source": [
    "We now define the Monte-Carlo simulation, best_weighting. The function takes one argument - the number of portfolios to be generated in the simulation. It will calculate the MSCAPM of that many randomly weighted portfolios, and save the information we desire (best weights, best score, all scores). "
   ]
  },
  {
   "cell_type": "code",
   "execution_count": 259,
   "metadata": {},
   "outputs": [],
   "source": [
    "# Generates 'num_ports' random portfolios\n",
    "#  Uses MSCAPM to generate ticker weights which will yield the expected return which is closest to zero\n",
    "def best_weighting(num_ports):\n",
    "   best_weights = []\n",
    "   best_mscapm_score = 10000\n",
    "   mscapm_scores = []\n",
    "\n",
    "   # set_information[0] will hold the best MSCAPM score, set_information[1] will hold the weights that yield that score, \n",
    "   #  set_information[2] holds all mscapm scores.\n",
    "   set_information = []\n",
    "\n",
    "   # If there are an appropriate number of portfolios to be generated, function will perform the weighting checks\n",
    "   if num_ports <= 100000:\n",
    "\n",
    "      # Generate random weights\n",
    "      for _ in range(num_ports):\n",
    "         weights = weight_generation()\n",
    "\n",
    "         # Generate MSCAPM score, add to list\n",
    "         mscapm = 0\n",
    "         for m in range(num_ticks_final):\n",
    "            mscapm += weights[m] * (new_rf + beta_list[m] * (rm_minus_rf)) \n",
    "         # We use the scores for analysis later\n",
    "         mscapm_scores.append(mscapm)\n",
    "\n",
    "         # Check for best MSCAPM score (closest to 0)\n",
    "         if abs(mscapm) < abs(best_mscapm_score):\n",
    "            best_mscapm_score = mscapm\n",
    "            best_weights = weights\n",
    "\n",
    "      set_information.append(best_mscapm_score) \n",
    "      set_information.append(best_weights)\n",
    "      set_information.append(mscapm_scores)\n",
    "\n",
    "      # Puts set information into queueW to be retrieved later\n",
    "      queueW.put(set_information)\n",
    "\n",
    "   # If there are too many portfolios to be generated, function creates numthreads threads, each generating num_ports // numthreads portfolios\n",
    "   else:\n",
    "      numthreads = 10\n",
    "\n",
    "      num_ports_new = num_ports // numthreads\n",
    "\n",
    "      # Start numthreads threads\n",
    "      threads = []\n",
    "      for _ in range(numthreads):\n",
    "         w_sub = threading.Thread(target = best_weighting, args = (num_ports_new, ))\n",
    "         w_sub.start()\n",
    "         threads.append(w_sub)\n",
    "\n",
    "      # Wait for all threads to finish.\n",
    "      for t in threads:\n",
    "         t.join()"
   ]
  },
  {
   "attachments": {},
   "cell_type": "markdown",
   "metadata": {},
   "source": [
    "We run best_weighting on a thread, and use queueW_getter to collect the information it generates."
   ]
  },
  {
   "cell_type": "code",
   "execution_count": 260,
   "metadata": {},
   "outputs": [],
   "source": [
    "# Runs best_weighting\n",
    "run_weights = threading.Thread(target = best_weighting, args = (num_hypothetical_portfolios, ))\n",
    "run_weights.start()\n",
    "run_weights.join()\n",
    "\n",
    "# Grab information from queueW\n",
    "while not queueW.empty():\n",
    "   queueW_getter.append(queueW.get())"
   ]
  },
  {
   "attachments": {},
   "cell_type": "markdown",
   "metadata": {},
   "source": [
    "Now the best score and associated weights are collected to build the final portfolio, and every generated score is collected for analysis."
   ]
  },
  {
   "cell_type": "code",
   "execution_count": 261,
   "metadata": {},
   "outputs": [],
   "source": [
    "best_score = 10000\n",
    "mscapm_scores = []\n",
    "\n",
    "# Gets information for MSCAPM scores from Queue, grabs best score, and optimal weights\n",
    "for set_info in range(0, len(queueW_getter)):\n",
    "   mscapm_scores.append(queueW_getter[set_info][2]) # Add list of all scores to mscapm_scores for analysis\n",
    "\n",
    "   # Check for best score\n",
    "   #  For each set_info, queueW_getter[set_info][0] is the best score from thread # set_info\n",
    "   if abs(queueW_getter[set_info][0]) < abs(best_score):\n",
    "      best_score = queueW_getter[set_info][0]\n",
    "      optimal_weighting = queueW_getter[set_info][1]\n",
    "\n",
    "# mscapm_scores is a list of lists, so we make it flat\n",
    "mscapm_scores = [item for sublist in mscapm_scores for item in sublist]"
   ]
  },
  {
   "cell_type": "code",
   "execution_count": 262,
   "metadata": {},
   "outputs": [],
   "source": [
    "# Uncomment to see how the betas of each ticker compares to their weight in the portfolio\n",
    "#weights_tickers_betas = pd.DataFrame({'Weight' : optimal_weighting,\n",
    "                   #'Ticker' : tickers_uniform_order,\n",
    "                   #'Beta' : beta_list})\n",
    "\n",
    "#weights_tickers_betas.sort_values(by = 'Weight', ascending=False)"
   ]
  },
  {
   "attachments": {},
   "cell_type": "markdown",
   "metadata": {},
   "source": [
    "We now create the final portfolio by grabbing the price for each ticker as of 'price_date', and constructing a DataFrame with the tickers, stock prices, number of shares, total value in the portfolio, and weight in the portfolio."
   ]
  },
  {
   "cell_type": "code",
   "execution_count": 263,
   "metadata": {},
   "outputs": [],
   "source": [
    "prices = []\n",
    "shares = []\n",
    "value = []\n",
    "\n",
    "# Retrieve price for purchase from each ticker and store it in a list\n",
    "#  We use tickers_uniform_order instead of tickers_final so that we can keep a list instead of a dictionary\n",
    "#   (beta_list, optimal_weights, tickers_uniform_order, and prices will all be lined up)\n",
    "# By default the price date is the last date of analysis (Efficient Market Hypothesis)\n",
    "for ticker in tickers_uniform_order:\n",
    "    prices.append(closing_df_final[ticker][-1])\n",
    "\n",
    "# Index of final portfolio begins at 1\n",
    "index = list(range(1, (num_ticks_final + 1)))\n",
    "\n",
    "# Calculating shares, value of stock in portfolio\n",
    "for i in range(num_ticks_final):\n",
    "    shares.append((capital * optimal_weighting[i]) / prices[i])\n",
    "    value.append(prices[i] * shares[i])\n",
    "\n",
    "portfolio_final_dict = {'Ticker': tickers_uniform_order,\n",
    "                        'Price ($)': prices,\n",
    "                        'Shares': shares,\n",
    "                        'Value ($)': value,\n",
    "                        'Weight': optimal_weighting}\n",
    " \n",
    "portfolio_final = pd.DataFrame(portfolio_final_dict)\n",
    "portfolio_final.index = index"
   ]
  },
  {
   "attachments": {},
   "cell_type": "markdown",
   "metadata": {},
   "source": [
    "#### 3.4 Final Portfolio"
   ]
  },
  {
   "attachments": {},
   "cell_type": "markdown",
   "metadata": {},
   "source": [
    "To make it easier for the user to understand the composition of the final portfolio, we clean up some of the information from portfolio_final, and present a user-friendly version."
   ]
  },
  {
   "cell_type": "code",
   "execution_count": 264,
   "metadata": {},
   "outputs": [
    {
     "data": {
      "text/html": [
       "<div>\n",
       "<style scoped>\n",
       "    .dataframe tbody tr th:only-of-type {\n",
       "        vertical-align: middle;\n",
       "    }\n",
       "\n",
       "    .dataframe tbody tr th {\n",
       "        vertical-align: top;\n",
       "    }\n",
       "\n",
       "    .dataframe thead th {\n",
       "        text-align: right;\n",
       "    }\n",
       "</style>\n",
       "<table border=\"1\" class=\"dataframe\">\n",
       "  <thead>\n",
       "    <tr style=\"text-align: right;\">\n",
       "      <th></th>\n",
       "      <th>Ticker</th>\n",
       "      <th>Price ($)</th>\n",
       "      <th>Shares</th>\n",
       "      <th>Value ($)</th>\n",
       "      <th>Weight (%)</th>\n",
       "    </tr>\n",
       "  </thead>\n",
       "  <tbody>\n",
       "    <tr>\n",
       "      <th>0</th>\n",
       "      <td>CPB</td>\n",
       "      <td>54.11</td>\n",
       "      <td>1076.59</td>\n",
       "      <td>58259.37</td>\n",
       "      <td>11.65</td>\n",
       "    </tr>\n",
       "    <tr>\n",
       "      <th>1</th>\n",
       "      <td>LMT</td>\n",
       "      <td>450.03</td>\n",
       "      <td>123.53</td>\n",
       "      <td>55591.68</td>\n",
       "      <td>11.12</td>\n",
       "    </tr>\n",
       "    <tr>\n",
       "      <th>2</th>\n",
       "      <td>UNH</td>\n",
       "      <td>487.47</td>\n",
       "      <td>87.45</td>\n",
       "      <td>42628.84</td>\n",
       "      <td>8.53</td>\n",
       "    </tr>\n",
       "    <tr>\n",
       "      <th>3</th>\n",
       "      <td>KO</td>\n",
       "      <td>63.18</td>\n",
       "      <td>666.29</td>\n",
       "      <td>42093.05</td>\n",
       "      <td>8.42</td>\n",
       "    </tr>\n",
       "    <tr>\n",
       "      <th>4</th>\n",
       "      <td>ED</td>\n",
       "      <td>97.22</td>\n",
       "      <td>362.95</td>\n",
       "      <td>35287.19</td>\n",
       "      <td>7.06</td>\n",
       "    </tr>\n",
       "    <tr>\n",
       "      <th>5</th>\n",
       "      <td>CVS</td>\n",
       "      <td>69.52</td>\n",
       "      <td>322.29</td>\n",
       "      <td>22405.04</td>\n",
       "      <td>4.48</td>\n",
       "    </tr>\n",
       "    <tr>\n",
       "      <th>6</th>\n",
       "      <td>PG</td>\n",
       "      <td>155.26</td>\n",
       "      <td>141.90</td>\n",
       "      <td>22031.82</td>\n",
       "      <td>4.41</td>\n",
       "    </tr>\n",
       "    <tr>\n",
       "      <th>7</th>\n",
       "      <td>VZ</td>\n",
       "      <td>37.30</td>\n",
       "      <td>582.71</td>\n",
       "      <td>21736.20</td>\n",
       "      <td>4.35</td>\n",
       "    </tr>\n",
       "    <tr>\n",
       "      <th>8</th>\n",
       "      <td>BRK-B</td>\n",
       "      <td>323.22</td>\n",
       "      <td>55.25</td>\n",
       "      <td>17856.60</td>\n",
       "      <td>3.57</td>\n",
       "    </tr>\n",
       "    <tr>\n",
       "      <th>9</th>\n",
       "      <td>GILD</td>\n",
       "      <td>78.69</td>\n",
       "      <td>176.69</td>\n",
       "      <td>13904.06</td>\n",
       "      <td>2.78</td>\n",
       "    </tr>\n",
       "    <tr>\n",
       "      <th>10</th>\n",
       "      <td>SO</td>\n",
       "      <td>72.64</td>\n",
       "      <td>186.37</td>\n",
       "      <td>13537.33</td>\n",
       "      <td>2.71</td>\n",
       "    </tr>\n",
       "    <tr>\n",
       "      <th>11</th>\n",
       "      <td>ROP</td>\n",
       "      <td>455.77</td>\n",
       "      <td>29.66</td>\n",
       "      <td>13517.49</td>\n",
       "      <td>2.70</td>\n",
       "    </tr>\n",
       "    <tr>\n",
       "      <th>12</th>\n",
       "      <td>GRMN</td>\n",
       "      <td>99.40</td>\n",
       "      <td>134.46</td>\n",
       "      <td>13364.92</td>\n",
       "      <td>2.67</td>\n",
       "    </tr>\n",
       "    <tr>\n",
       "      <th>13</th>\n",
       "      <td>IBM</td>\n",
       "      <td>121.78</td>\n",
       "      <td>103.95</td>\n",
       "      <td>12659.53</td>\n",
       "      <td>2.53</td>\n",
       "    </tr>\n",
       "    <tr>\n",
       "      <th>14</th>\n",
       "      <td>NOC</td>\n",
       "      <td>441.83</td>\n",
       "      <td>26.79</td>\n",
       "      <td>11837.13</td>\n",
       "      <td>2.37</td>\n",
       "    </tr>\n",
       "    <tr>\n",
       "      <th>15</th>\n",
       "      <td>PM</td>\n",
       "      <td>94.60</td>\n",
       "      <td>119.05</td>\n",
       "      <td>11262.78</td>\n",
       "      <td>2.25</td>\n",
       "    </tr>\n",
       "    <tr>\n",
       "      <th>16</th>\n",
       "      <td>CSCO</td>\n",
       "      <td>45.61</td>\n",
       "      <td>240.38</td>\n",
       "      <td>10964.91</td>\n",
       "      <td>2.19</td>\n",
       "    </tr>\n",
       "    <tr>\n",
       "      <th>17</th>\n",
       "      <td>AAPL</td>\n",
       "      <td>167.22</td>\n",
       "      <td>62.94</td>\n",
       "      <td>10524.45</td>\n",
       "      <td>2.10</td>\n",
       "    </tr>\n",
       "    <tr>\n",
       "      <th>18</th>\n",
       "      <td>TSN</td>\n",
       "      <td>59.99</td>\n",
       "      <td>173.68</td>\n",
       "      <td>10419.06</td>\n",
       "      <td>2.08</td>\n",
       "    </tr>\n",
       "    <tr>\n",
       "      <th>19</th>\n",
       "      <td>TXN</td>\n",
       "      <td>162.14</td>\n",
       "      <td>62.41</td>\n",
       "      <td>10118.53</td>\n",
       "      <td>2.02</td>\n",
       "    </tr>\n",
       "    <tr>\n",
       "      <th>20</th>\n",
       "      <td>INFY</td>\n",
       "      <td>15.18</td>\n",
       "      <td>658.95</td>\n",
       "      <td>10000.00</td>\n",
       "      <td>2.00</td>\n",
       "    </tr>\n",
       "    <tr>\n",
       "      <th>21</th>\n",
       "      <td>CMS</td>\n",
       "      <td>60.71</td>\n",
       "      <td>164.73</td>\n",
       "      <td>10000.00</td>\n",
       "      <td>2.00</td>\n",
       "    </tr>\n",
       "    <tr>\n",
       "      <th>22</th>\n",
       "      <td>ACN</td>\n",
       "      <td>274.20</td>\n",
       "      <td>36.47</td>\n",
       "      <td>10000.00</td>\n",
       "      <td>2.00</td>\n",
       "    </tr>\n",
       "    <tr>\n",
       "      <th>23</th>\n",
       "      <td>REGN</td>\n",
       "      <td>803.17</td>\n",
       "      <td>12.45</td>\n",
       "      <td>10000.00</td>\n",
       "      <td>2.00</td>\n",
       "    </tr>\n",
       "    <tr>\n",
       "      <th>24</th>\n",
       "      <td>VMW</td>\n",
       "      <td>123.49</td>\n",
       "      <td>80.98</td>\n",
       "      <td>10000.01</td>\n",
       "      <td>2.00</td>\n",
       "    </tr>\n",
       "  </tbody>\n",
       "</table>\n",
       "</div>"
      ],
      "text/plain": [
       "   Ticker  Price ($)   Shares  Value ($)  Weight (%)\n",
       "0     CPB      54.11  1076.59   58259.37       11.65\n",
       "1     LMT     450.03   123.53   55591.68       11.12\n",
       "2     UNH     487.47    87.45   42628.84        8.53\n",
       "3      KO      63.18   666.29   42093.05        8.42\n",
       "4      ED      97.22   362.95   35287.19        7.06\n",
       "5     CVS      69.52   322.29   22405.04        4.48\n",
       "6      PG     155.26   141.90   22031.82        4.41\n",
       "7      VZ      37.30   582.71   21736.20        4.35\n",
       "8   BRK-B     323.22    55.25   17856.60        3.57\n",
       "9    GILD      78.69   176.69   13904.06        2.78\n",
       "10     SO      72.64   186.37   13537.33        2.71\n",
       "11    ROP     455.77    29.66   13517.49        2.70\n",
       "12   GRMN      99.40   134.46   13364.92        2.67\n",
       "13    IBM     121.78   103.95   12659.53        2.53\n",
       "14    NOC     441.83    26.79   11837.13        2.37\n",
       "15     PM      94.60   119.05   11262.78        2.25\n",
       "16   CSCO      45.61   240.38   10964.91        2.19\n",
       "17   AAPL     167.22    62.94   10524.45        2.10\n",
       "18    TSN      59.99   173.68   10419.06        2.08\n",
       "19    TXN     162.14    62.41   10118.53        2.02\n",
       "20   INFY      15.18   658.95   10000.00        2.00\n",
       "21    CMS      60.71   164.73   10000.00        2.00\n",
       "22    ACN     274.20    36.47   10000.00        2.00\n",
       "23   REGN     803.17    12.45   10000.00        2.00\n",
       "24    VMW     123.49    80.98   10000.01        2.00"
      ]
     },
     "execution_count": 264,
     "metadata": {},
     "output_type": "execute_result"
    }
   ],
   "source": [
    "# Create a final portfolio with rounded values to show to the user\n",
    "portfolio_final_show_dict = {'Ticker': portfolio_final.loc[:, 'Ticker'].values.tolist(),\n",
    "                            'Price ($)': np.round(portfolio_final.loc[:, 'Price ($)'].values.tolist(), 2),\n",
    "                            'Shares': np.round(portfolio_final.loc[:, 'Shares'].values.tolist(), 2),\n",
    "                            'Value ($)': np.round(portfolio_final.loc[:, 'Value ($)'].values.tolist(), 2),\n",
    "                            'Weight (%)': np.round([x * 100 for x in portfolio_final.loc[:, 'Weight'].values.tolist()], 2)}\n",
    "\n",
    "# Make DataFrame, reset index\n",
    "portfolio_final_show = pd.DataFrame(portfolio_final_show_dict)\n",
    "portfolio_final_show.sort_values(by = 'Weight (%)', inplace = True, ascending = False)\n",
    "\n",
    "portfolio_final_show.reset_index(inplace = True)\n",
    "portfolio_final_show.drop(columns = 'index', inplace = True)\n",
    "\n",
    "# Final portfolio\n",
    "portfolio_final_show"
   ]
  },
  {
   "attachments": {},
   "cell_type": "markdown",
   "metadata": {},
   "source": [
    "## 4. ANALYSIS AND SANITY CHECKS:\n",
    "\n",
    "We now perform sanity checks to ensure the portfolio is correctly sized and weighted, and analyze the portfolio to show why it is the optimal portfolio for our goal. We use Matplotlib graphs to make the analysis more comprehensible."
   ]
  },
  {
   "attachments": {},
   "cell_type": "markdown",
   "metadata": {},
   "source": [
    "#### 4.1 Value and Weights Check"
   ]
  },
  {
   "attachments": {},
   "cell_type": "markdown",
   "metadata": {},
   "source": [
    "This is our objective sanity check."
   ]
  },
  {
   "cell_type": "code",
   "execution_count": 265,
   "metadata": {},
   "outputs": [
    {
     "name": "stdout",
     "output_type": "stream",
     "text": [
      "Total Portfolio Value:  $500000\n",
      "Total Portfolio Weight: 100.0%\n",
      "\n",
      "Everything is correct!\n"
     ]
    }
   ],
   "source": [
    "try:\n",
    "    # Total value and weight of portfolio\n",
    "    val = int(np.round(sum(portfolio_final['Value ($)'], 0)))\n",
    "    weight = np.round(sum(portfolio_final['Weight'], 0))\n",
    "\n",
    "    print(f\"Total Portfolio Value:  ${val}\")\n",
    "    print(f\"Total Portfolio Weight: {weight * 100}%\")\n",
    "\n",
    "    # Print message depending on whether or not portfolio values are correct\n",
    "    if val == capital and weight == 1:\n",
    "        print(\"\\nEverything is correct!\")\n",
    "    else:\n",
    "        print(\"\\nWeight or Total Value is incorrect.\")\n",
    "except:\n",
    "    print(\"Something went wrong when trying to calculate the value and weight of the portfolio.\")\n"
   ]
  },
  {
   "attachments": {},
   "cell_type": "markdown",
   "metadata": {},
   "source": [
    "#### 4.2 Expected Returns Visualization"
   ]
  },
  {
   "attachments": {},
   "cell_type": "markdown",
   "metadata": {},
   "source": [
    "We plot a sample of expected returns from our Monte-Carlo simulation, as well as plot the expected return of the optimal portfolio on a line graph. We mark the optimal portfolio with a star.\n",
    "\n",
    "The fact that there is a noticeable difference between the expected returns of differently weighted portfolios shows that even with a good set of tickers, the process for selecting their weight in a portfolio is important."
   ]
  },
  {
   "cell_type": "code",
   "execution_count": 266,
   "metadata": {},
   "outputs": [],
   "source": [
    "# MODIFIABLE #\n",
    "\n",
    "# Must be less than num_hypothetical_portfolios (recommended to be less than 10 000 also)\n",
    "num_data_points = 1000"
   ]
  },
  {
   "cell_type": "code",
   "execution_count": 267,
   "metadata": {},
   "outputs": [],
   "source": [
    "# For analysis\n",
    "port_expected_return = best_score * 100\n",
    "\n",
    "frequency = f\"{numdays} Days\"\n",
    "\n",
    "# Indexes for sample of CAPM scores\n",
    "index_for_graph = np.random.randint(0, (num_hypothetical_portfolios - 1), num_data_points)\n",
    "\n",
    "# Initialize list with best score\n",
    "capm_examples = [port_expected_return]\n",
    "\n",
    "# Grab 'num_data_points' data points to graph\n",
    "for d in range(num_data_points):\n",
    "    capm_examples.append(mscapm_scores[index_for_graph[d]] * 100) # * 100 so it is represented as a %\n",
    "\n",
    "# We have 1D data, so all y values are 0\n",
    "y_values = [0] * (num_data_points + 1)"
   ]
  },
  {
   "cell_type": "code",
   "execution_count": 268,
   "metadata": {},
   "outputs": [
    {
     "data": {
      "image/png": "[encoded data removed]",
      "text/plain": [
       "<Figure size 1500x500 with 1 Axes>"
      ]
     },
     "metadata": {},
     "output_type": "display_data"
    }
   ],
   "source": [
    "# Plot the data, pinpoint best score\n",
    "plt.scatter(capm_examples, y_values, color = 'r')\n",
    "plt.plot(port_expected_return, 0, marker = '*', color = 'g', ls = 'none', ms = 10, label = 'Best Score')\n",
    "\n",
    "# Set axis and title\n",
    "plt.title(f'Sample of {num_data_points} CAPM Scores from Generation of {num_hypothetical_portfolios} Portfolios')\n",
    "plt.xlabel(f'Expected Return (% {frequency})')\n",
    "plt.xticks(rotation = 70)\n",
    "plt.ylabel('Y-Axis Not Applicable')\n",
    "\n",
    "# Change size of graph\n",
    "plt.gcf().set_size_inches(15, 5)\n",
    "\n",
    "plt.legend(loc = 'best')\n",
    "\n",
    "plt.show()"
   ]
  },
  {
   "attachments": {},
   "cell_type": "markdown",
   "metadata": {},
   "source": [
    "#### 4.3 Returns Check With Low Volatility ETF Comparison"
   ]
  },
  {
   "attachments": {},
   "cell_type": "markdown",
   "metadata": {},
   "source": [
    "We provide a \"performance check\", where we can input two days (one_period_start and one_period_end) and track the return of our portfolio in comparison to a low volatility ETF (referred to as the \"fund\" or the \"benchmark\"). This section is a precursor to section 4.4 where we will graph more detailed information.\n",
    "\n",
    "We use an analysis period that begins after the end of the portfolio creation analysis period, to prevent look-ahead bias."
   ]
  },
  {
   "cell_type": "markdown",
   "metadata": {},
   "source": [
    "We are using the \"iShares MSCI USA Min Vol Factor ETF\" (USMV) as the reference fund because it is a US total-market, broad-based, multi-factor fund. It is about as close of a security as we will get to our portfolio in terms of scope and goals. It also has over 29 billion USD net assets, and is owned by iShares, so it's reputable and well-funded. We set it as our \"benchmark\".\n",
    "\n",
    "<b>If we are able to outperform* a multi-billion dollar ETF, skillfully curated by the world's largest asset manager, which shares comparable investment objectives and portfolio characteristics to ours, with a portfolio comprised of stocks we barely researched (and with way fewer stocks overall), crafted by quantitative analysis, we consider this project a success. </b>\n",
    "\n",
    "\\* Outperform in terms of our goal."
   ]
  },
  {
   "cell_type": "code",
   "execution_count": 269,
   "metadata": {},
   "outputs": [],
   "source": [
    "# MODIFIABLE #\n",
    "\n",
    "fund_ticker = 'USMV'\n",
    "fund_name = 'iShares MSCI USA Min Vol Factor ETF'"
   ]
  },
  {
   "attachments": {},
   "cell_type": "markdown",
   "metadata": {},
   "source": [
    "We first define a simple percent change function. We do this for the sake of clarity and cleanliness, since we use its functionality multiple times in our analysis. It returns the actual percentage, since we use it mostly for analysis and not calculation."
   ]
  },
  {
   "cell_type": "code",
   "execution_count": 270,
   "metadata": {},
   "outputs": [],
   "source": [
    "# Provides the percent change from the first price to the last price of a list of prices\n",
    "def get_pct_change(prices):\n",
    "    # First and last price\n",
    "    start = prices[0]\n",
    "    end = prices[-1]\n",
    "\n",
    "    # Calculate\n",
    "    diff = end - start\n",
    "    pctchange = diff / start * 100\n",
    "\n",
    "    return(pctchange)"
   ]
  },
  {
   "attachments": {},
   "cell_type": "markdown",
   "metadata": {},
   "source": [
    "Now we define our analysis dates, and retrieve the closing prices for the fund and the portfolio across those dates."
   ]
  },
  {
   "cell_type": "code",
   "execution_count": 271,
   "metadata": {},
   "outputs": [],
   "source": [
    "# MODIFIABLE #\n",
    "\n",
    "# For graphing the returns between two dates over multiple periods (4.4)\n",
    "#   MUST BE VALID TRADING DAYS\n",
    "returns_check_start = '2023-05-03' # Recommended to be as close as possible to variable 'end'\n",
    "returns_check_end = '2023-07-07'"
   ]
  },
  {
   "cell_type": "code",
   "execution_count": 272,
   "metadata": {},
   "outputs": [],
   "source": [
    "# MODIFIABLE #\n",
    "\n",
    "# Subset of returns_check_* to check for one period (should be numdays trading days, 5 trading days here)\n",
    "#   MUST BE VALID TRADING DAYS\n",
    "one_period_start = '2023-06-08'\n",
    "one_period_end = '2023-06-15'"
   ]
  },
  {
   "cell_type": "code",
   "execution_count": 273,
   "metadata": {},
   "outputs": [],
   "source": [
    "# For analysis, how many trading days per period\n",
    "tdays_per_period = numdays"
   ]
  },
  {
   "cell_type": "code",
   "execution_count": 274,
   "metadata": {},
   "outputs": [],
   "source": [
    "analysis_portfolio_closing_dict = {}\n",
    "\n",
    "# Get ticker prices for analysis dates\n",
    "for ticker in valid_tickers:\n",
    "    tick_obj = Stock(ticker = ticker)\n",
    "    tick_hist = tick_obj.history(start = returns_check_start, end = returns_check_end, interval = '1d')\n",
    "\n",
    "    analysis_portfolio_closing_dict[ticker] = tick_hist['Close']\n",
    "\n",
    "analysis_portfolio_closing_df = pd.DataFrame(analysis_portfolio_closing_dict)\n",
    "\n",
    "# Get fund prices for analysis dates\n",
    "analysis_fund_closing_dict = {}\n",
    "\n",
    "fund_obj = Stock(ticker = fund_ticker)\n",
    "analysis_fund_closing_df = fund_obj.history(start = returns_check_start, end = returns_check_end, interval = '1d')"
   ]
  },
  {
   "cell_type": "code",
   "execution_count": 275,
   "metadata": {},
   "outputs": [],
   "source": [
    "# Grab number of implied periods, edit end date of DataFrames to reflect tdays_per_period * num_periods trading days (slice to new end date)\n",
    "\n",
    "analysis_index = analysis_fund_closing_df.index\n",
    "num_periods = (len(analysis_index) - 1) // tdays_per_period\n",
    "returns_check_end = analysis_index[num_periods * tdays_per_period]\n",
    "\n",
    "analysis_fund_closing_df = analysis_fund_closing_df.loc[returns_check_start : returns_check_end, :]\n",
    "analysis_portfolio_closing_df = analysis_portfolio_closing_df.loc[returns_check_start : returns_check_end, :]"
   ]
  },
  {
   "attachments": {},
   "cell_type": "markdown",
   "metadata": {},
   "source": [
    "We collect the prices for the weighted portfolio and the fund across the one_period_start and one_period_end dates."
   ]
  },
  {
   "cell_type": "code",
   "execution_count": 276,
   "metadata": {},
   "outputs": [],
   "source": [
    "# Get prices from start date to end date\n",
    "one_period_fund_prices = analysis_fund_closing_df['Close'].loc[one_period_start:one_period_end].values.tolist()"
   ]
  },
  {
   "cell_type": "code",
   "execution_count": 277,
   "metadata": {},
   "outputs": [],
   "source": [
    "# Reorder the columns of the DataFrame according to tickers_uniform_order\n",
    "analysis_portfolio_closing_df = analysis_portfolio_closing_df[tickers_uniform_order]\n",
    "\n",
    "# We will scale each price such that the first price of each ticker is 'capital' multiplied by their weight in the portfolio\n",
    "#  (Which is the allocation of capital to that security)\n",
    "for c in range(num_ticks_final):\n",
    "    column = analysis_portfolio_closing_df.iloc[:, c]\n",
    "    # If startPrice * scale = allocation = weight * capital, then scale = (weight * capital) / startPrice\n",
    "    scale = (optimal_weighting[c] * capital) / column[0]\n",
    "\n",
    "    # Applying scale\n",
    "    for row in range(0, len(column.index)):\n",
    "        column[row] *= scale\n",
    "\n",
    "# Grab a sum of the rows (portfolio value)\n",
    "analysis_portfolio_closing_df['WEIGHTED TOTAL'] = analysis_portfolio_closing_df.sum(axis = 1)\n",
    "analysis_portfolio_closing_df = analysis_portfolio_closing_df[['WEIGHTED TOTAL']]\n",
    "\n",
    "one_period_portfolio_prices = analysis_portfolio_closing_df.loc[one_period_start:one_period_end, 'WEIGHTED TOTAL'].values.tolist()"
   ]
  },
  {
   "attachments": {},
   "cell_type": "markdown",
   "metadata": {},
   "source": [
    "Now we calculate the percent change of the portfolio and fund over the specified time frame, and present the results. Here, the user can see how the portfolio's performance compares to the estimated performance, as well as the benchmark."
   ]
  },
  {
   "cell_type": "code",
   "execution_count": 278,
   "metadata": {},
   "outputs": [
    {
     "name": "stdout",
     "output_type": "stream",
     "text": [
      "Return of portfolio from 2023-06-08 to 2023-06-15: 0.35%.\n",
      "Expected return for time period \"5 Days\" for reference: 0.2%.\n",
      "Return of fund \"iShares MSCI USA Min Vol Factor ETF\" during this time period for reference: 2.24%.\n"
     ]
    }
   ],
   "source": [
    "# Get returns\n",
    "fund_return = get_pct_change(one_period_fund_prices)\n",
    "port_return = get_pct_change(one_period_portfolio_prices)\n",
    "\n",
    "# Summary\n",
    "print(f\"Return of portfolio from {one_period_start} to {one_period_end}: {np.round(port_return, 2)}%.\")\n",
    "print(f\"Expected return for time period \\\"{frequency}\\\" for reference: {np.round(port_expected_return, 2)}%.\")\n",
    "print(f\"Return of fund \\\"{fund_name}\\\" during this time period for reference: {np.round(fund_return, 2)}%.\")"
   ]
  },
  {
   "attachments": {},
   "cell_type": "markdown",
   "metadata": {},
   "source": [
    "#### 4.4 Graphed Returns Check With Additional Data and Low Volatility ETF Comparison"
   ]
  },
  {
   "attachments": {},
   "cell_type": "markdown",
   "metadata": {},
   "source": [
    "In this section, we graph metrics related to portfolio performance over a time period following the portfolio creation analysis period.\n",
    "    \n",
    "We use this information to assess our portfolio. Specifically, 6 main characteristics should be present:\n",
    "     \n",
    "1. The average return of the portfolio (blue line) should be close to the expected return of the portfolio (blue dotted line).\n",
    "2. The average return of the portfolio should be closer to 0% (yellow dotted / dashed line) than the fund's average return (red line).\n",
    "3. The average distance from a 0% return of our portfolio should be smaller than that of the fund.\n",
    "4. The portfolio should have a greater percentage of returns closer to 0% than the fund.\n",
    "5. The standard deviation of portfolio returns should be relatively low.\n",
    "6. The absolute total return of the portfolio should be lower than that of the fund.\n",
    "\n",
    "If all of these characteristics are present, we consider the portfolio a success, as this would indicate we have made a good prediction of expected return, beat the benchmark in terms of our goal, and have a system that is likely to perform well if run with different information, or over a different time period."
   ]
  },
  {
   "attachments": {},
   "cell_type": "markdown",
   "metadata": {},
   "source": [
    "First, we gather a list of closing prices."
   ]
  },
  {
   "cell_type": "code",
   "execution_count": 279,
   "metadata": {},
   "outputs": [],
   "source": [
    "# Grab price information across all dates (DataFrame)\n",
    "many_periods_fund_prices = analysis_fund_closing_df['Close'].values.tolist()\n",
    "many_periods_portfolio_prices = analysis_portfolio_closing_df['WEIGHTED TOTAL'].values.tolist()\n",
    "\n",
    "# For reference when adding dates for x axis\n",
    "portfolio_prices_series = analysis_portfolio_closing_df.loc[:, 'WEIGHTED TOTAL']"
   ]
  },
  {
   "attachments": {},
   "cell_type": "markdown",
   "metadata": {},
   "source": [
    "Then, we grab a list of daily returns for every specified number of trading days over the specified number of intervals from the specified start date (returns_check_start) to the specified end date (returns_check_end). We also calculate the total return for the portfolio and fund."
   ]
  },
  {
   "cell_type": "code",
   "execution_count": 280,
   "metadata": {},
   "outputs": [],
   "source": [
    "fund_returns = []\n",
    "port_returns = []\n",
    "x_axis = []\n",
    "\n",
    "# Grab the daily returns for each period specified by the user, add to list\n",
    "for p in range(num_periods):\n",
    "    start_index = p * tdays_per_period\n",
    "    end_index = start_index + tdays_per_period + 1\n",
    "\n",
    "    # Grabbing price data for the current interval\n",
    "    fund_interval = many_periods_fund_prices[start_index : end_index]\n",
    "    portfolio_interval = many_periods_portfolio_prices[start_index : end_index]\n",
    "\n",
    "    # Convert to percent change\n",
    "    fund_returns.append(get_pct_change(fund_interval))\n",
    "    port_returns.append(get_pct_change(portfolio_interval))\n",
    "\n",
    "    # Grab end date of interval for graphing purposes\n",
    "    x_axis.append(portfolio_prices_series[start_index : end_index].index[-1])"
   ]
  },
  {
   "cell_type": "code",
   "execution_count": 281,
   "metadata": {},
   "outputs": [],
   "source": [
    "# Get the total return (%)\n",
    "portfolio_total_return = get_pct_change(many_periods_portfolio_prices)\n",
    "fund_total_return = get_pct_change(many_periods_fund_prices)"
   ]
  },
  {
   "attachments": {},
   "cell_type": "markdown",
   "metadata": {},
   "source": [
    "Finally, we plot all of the data, along with some additional statistics."
   ]
  },
  {
   "cell_type": "code",
   "execution_count": 282,
   "metadata": {},
   "outputs": [
    {
     "data": {
      "image/png": "[encoded data removed]",
      "text/plain": [
       "<Figure size 1500x800 with 1 Axes>"
      ]
     },
     "metadata": {},
     "output_type": "display_data"
    },
    {
     "name": "stdout",
     "output_type": "stream",
     "text": [
      "Absolute average distance from 0% return; portfolio: 0.73%\n",
      "Absolute average distance from 0% return; iShares MSCI USA Min Vol Factor ETF: 1.29%\n",
      "\n",
      "% of weekly returns in portfolio closer to 0% than iShares MSCI USA Min Vol Factor ETF: 87.5%\n",
      "\n",
      "Standard deviation of portfolio returns: 0.83%\n",
      "\n",
      "Portfolio's total return: -1.26%\n",
      "Fund's total return: 2.01%\n"
     ]
    }
   ],
   "source": [
    "# Plot the data, set reference lines for portfolio expected return and 0% return\n",
    "plt.scatter(x_axis, port_returns, color = 'b', label = 'Portfolio Returns')\n",
    "plt.scatter(x_axis, fund_returns, color = 'r', label = 'Fund Returns')\n",
    "\n",
    "plt.axhline(y = port_expected_return, color = 'b', linestyle = ':', label = f'Portfolio Expected Return for period \\\"{frequency}\\\"')\n",
    "\n",
    "plt.axhline(y = np.mean(port_returns), color = 'b', linestyle = '-', label = 'Portfolio Average Return')\n",
    "plt.axhline(y = np.mean(fund_returns), color = 'r', linestyle = '-', label = 'Fund Average Return')\n",
    "\n",
    "plt.axhline(y = 0, color = 'y', linestyle = '-.', label = '0%')\n",
    "\n",
    "# Set axis and title\n",
    "plt.title(f'Returns of portfolio and fund over intervals of {frequency}')\n",
    "plt.xlabel(f'Date')\n",
    "plt.xticks(rotation = 70)\n",
    "plt.ylabel(f'Return (%)')\n",
    "plt.legend(loc = 'best')\n",
    "\n",
    "# Change size of graph\n",
    "plt.gcf().set_size_inches(15, 8)\n",
    "plt.show()\n",
    "\n",
    "#--------------------------------------------------------------------------------------------------------------------------------------------#\n",
    "\n",
    "# Grab average distance of data points from 0%\n",
    "returns_abs = [abs(x) for x in port_returns]\n",
    "fund_returns_abs = [abs(x) for x in fund_returns]\n",
    "returns_adf0 = np.round(np.mean(returns_abs), 2)\n",
    "fund_returns_adf0 = np.round(np.mean(fund_returns_abs), 2)\n",
    "\n",
    "# Calculate amount of times our portfolio is closer to 0% return than the fund\n",
    "closer = 0\n",
    "\n",
    "for i in range(len(returns_abs)):\n",
    "    if returns_abs[i] < fund_returns_abs[i]:\n",
    "        closer += 1\n",
    "\n",
    "closer = np.round(closer / len(returns_abs) * 100, 2)\n",
    "\n",
    "# Conclusion\n",
    "print(f\"Absolute average distance from 0% return; portfolio: {returns_adf0}%\")\n",
    "print(f\"Absolute average distance from 0% return; {fund_name}: {fund_returns_adf0}%\")\n",
    "\n",
    "print(f\"\\n% of weekly returns in portfolio closer to 0% than {fund_name}: {closer}%\")\n",
    "\n",
    "print(f\"\\nStandard deviation of portfolio returns: {np.round(np.std(port_returns), 2)}%\")\n",
    "\n",
    "print(f\"\\nPortfolio's total return: {np.round(portfolio_total_return, 2)}%\")\n",
    "print(f\"Fund's total return: {np.round(fund_total_return, 2)}%\")"
   ]
  },
  {
   "cell_type": "markdown",
   "metadata": {},
   "source": [
    "## 5. PORTFOLIO TO CSV, CONSIDERATIONS, AND CONCLUSION"
   ]
  },
  {
   "attachments": {},
   "cell_type": "markdown",
   "metadata": {},
   "source": [
    "#### 5.1 Output Final Information to .csv File"
   ]
  },
  {
   "cell_type": "code",
   "execution_count": 283,
   "metadata": {},
   "outputs": [],
   "source": [
    "# Final DataFrame, output to csv\n",
    "stocks_final = portfolio_final[['Ticker', 'Shares']]\n",
    "stocks_final.to_csv(\"csv/final_portfolio.csv\", encoding='utf-8')"
   ]
  },
  {
   "cell_type": "markdown",
   "metadata": {},
   "source": [
    "#### 5.2 Considerations\n",
    "\n",
    "Stock selection - It's hard to make something out of nothing. For this program to run well, the stocks must be selected with low volatility and offsetting correlation in mind. Low volatility is especially important.\n",
    "\n",
    "Beta - Low beta DOES NOT equal low volatility in all cases. This was one of the reasons we used the points system as part of the consideration when selecting the final portfolio weights. Sometimes, beta can sway the simulation to more heavily favour correlation as a factor, since lower correlation = lower beta.\n",
    "\n",
    "Analysis period - It was found that a mid-sized portfolio selection analysis period relative to the investment horizon was generally more successful for creating a performant portfolio than a shorter or longer analysis period. We can never really be certain which length of period (or which timeframe) is the best though."
   ]
  },
  {
   "attachments": {},
   "cell_type": "markdown",
   "metadata": {},
   "source": [
    "#### 5.3 Conclusion\n",
    "\n",
    "Our goal was to consume a list of stock tickers, and generate a portfolio that will yield a return as close to 0% as possible. \n",
    "\n",
    "We first cleaned up our data to ensure each ticker met certain criteria. Then, we chose the best stocks to use, considering volatility and correlation. We generated five-hundred thousand hypothetical portfolios, and used a Multi-Security Capital Asset Pricing Model to obtain the portfolio whose expected return was the closest to zero. Finally, we performed some data analysis, and explained why the portfolio that our code generated is optimal for achieving our goal.\n",
    "\n",
    "The portfolio delivered a low absolute average return, with less volatility in the short term, and low momentum in the long term, when compared to the fund. For the given time period, we conclude that we outperformed the fund.\n",
    "\n",
    "We conclude that our method of creating a portfolio which will yield near-zero returns is efficient, accurate, and performant."
   ]
  },
  {
   "attachments": {},
   "cell_type": "markdown",
   "metadata": {},
   "source": [
    "## 6. REFERENCES\n",
    "- Various Code and Concepts: Notes of Professor James Thompson\n",
    "- Capital Asset Pricing Model: https://www.investopedia.com/terms/c/capm.asp#toc-the-capm-and-the-efficient-frontier\n",
    "- Robot Image: http://www.onlinewebfonts.com\n",
    "- USMV Information: https://www.ishares.com/us/products/239695/ishares-msci-usa-minimum-volatility-etf and https://etfdb.com/advisor_reports/USMV/\n",
    "- iShares and BlackRock information: https://www.blackrock.com/il/intermediaries/en/themes/ishares-etf\n",
    "- \\#Combining scores and sorting: https://stackoverflow.com/questions/74891387/combining-elements-of-two-lists-based-on-the-indexes-of-two-separate-lists-in-py\n",
    "- @Weight Generation: https://stackoverflow.com/questions/74527506/creating-a-list-of-n-numbers-between-x-and-y-who-sum-up-to-z"
   ]
  }
 ],
 "metadata": {
  "kernelspec": {
   "display_name": "venv",
   "language": "python",
   "name": "python3"
  },
  "language_info": {
   "codemirror_mode": {
    "name": "ipython",
    "version": 3
   },
   "file_extension": ".py",
   "mimetype": "text/x-python",
   "name": "python",
   "nbconvert_exporter": "python",
   "pygments_lexer": "ipython3",
   "version": "3.11.4"
  },
  "vscode": {
   "interpreter": {
    "hash": "a1c3729c138d461e47acb27942119b3e6dc1eee1d6b566d1cf82ebc5db795064"
   }
  }
 },
 "nbformat": 4,
 "nbformat_minor": 2
}
